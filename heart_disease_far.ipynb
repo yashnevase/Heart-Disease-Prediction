{
 "cells": [
  {
   "cell_type": "code",
   "execution_count": 62,
   "id": "e899bcfa",
   "metadata": {},
   "outputs": [],
   "source": [
    "#importing Libraries\n",
    "import pandas as pd\n",
    "import numpy as np\n",
    "import matplotlib.pyplot as plt\n",
    "import hvplot.pandas\n",
    "import seaborn as sns"
   ]
  },
  {
   "cell_type": "code",
   "execution_count": 63,
   "id": "9db716ec",
   "metadata": {},
   "outputs": [],
   "source": [
    "#Load Dataset\n",
    "df=pd.read_csv(\"hdp_data.csv\")"
   ]
  },
  {
   "cell_type": "code",
   "execution_count": 64,
   "id": "e61ce6ed",
   "metadata": {},
   "outputs": [
    {
     "data": {
      "text/html": [
       "<div>\n",
       "<style scoped>\n",
       "    .dataframe tbody tr th:only-of-type {\n",
       "        vertical-align: middle;\n",
       "    }\n",
       "\n",
       "    .dataframe tbody tr th {\n",
       "        vertical-align: top;\n",
       "    }\n",
       "\n",
       "    .dataframe thead th {\n",
       "        text-align: right;\n",
       "    }\n",
       "</style>\n",
       "<table border=\"1\" class=\"dataframe\">\n",
       "  <thead>\n",
       "    <tr style=\"text-align: right;\">\n",
       "      <th></th>\n",
       "      <th>age</th>\n",
       "      <th>sex</th>\n",
       "      <th>cp</th>\n",
       "      <th>trestbps</th>\n",
       "      <th>chol</th>\n",
       "      <th>fbs</th>\n",
       "      <th>restecg</th>\n",
       "      <th>thalach</th>\n",
       "      <th>exang</th>\n",
       "      <th>oldpeak</th>\n",
       "      <th>slope</th>\n",
       "      <th>ca</th>\n",
       "      <th>thal</th>\n",
       "      <th>target</th>\n",
       "    </tr>\n",
       "  </thead>\n",
       "  <tbody>\n",
       "    <tr>\n",
       "      <th>0</th>\n",
       "      <td>63</td>\n",
       "      <td>1</td>\n",
       "      <td>3</td>\n",
       "      <td>145</td>\n",
       "      <td>233</td>\n",
       "      <td>1</td>\n",
       "      <td>0</td>\n",
       "      <td>150</td>\n",
       "      <td>0</td>\n",
       "      <td>2.3</td>\n",
       "      <td>0</td>\n",
       "      <td>0</td>\n",
       "      <td>1</td>\n",
       "      <td>1</td>\n",
       "    </tr>\n",
       "    <tr>\n",
       "      <th>1</th>\n",
       "      <td>37</td>\n",
       "      <td>1</td>\n",
       "      <td>2</td>\n",
       "      <td>130</td>\n",
       "      <td>250</td>\n",
       "      <td>0</td>\n",
       "      <td>1</td>\n",
       "      <td>187</td>\n",
       "      <td>0</td>\n",
       "      <td>3.5</td>\n",
       "      <td>0</td>\n",
       "      <td>0</td>\n",
       "      <td>2</td>\n",
       "      <td>1</td>\n",
       "    </tr>\n",
       "    <tr>\n",
       "      <th>2</th>\n",
       "      <td>41</td>\n",
       "      <td>0</td>\n",
       "      <td>1</td>\n",
       "      <td>130</td>\n",
       "      <td>204</td>\n",
       "      <td>0</td>\n",
       "      <td>0</td>\n",
       "      <td>172</td>\n",
       "      <td>0</td>\n",
       "      <td>1.4</td>\n",
       "      <td>2</td>\n",
       "      <td>0</td>\n",
       "      <td>2</td>\n",
       "      <td>1</td>\n",
       "    </tr>\n",
       "    <tr>\n",
       "      <th>3</th>\n",
       "      <td>56</td>\n",
       "      <td>1</td>\n",
       "      <td>1</td>\n",
       "      <td>120</td>\n",
       "      <td>236</td>\n",
       "      <td>0</td>\n",
       "      <td>1</td>\n",
       "      <td>178</td>\n",
       "      <td>0</td>\n",
       "      <td>0.8</td>\n",
       "      <td>2</td>\n",
       "      <td>0</td>\n",
       "      <td>2</td>\n",
       "      <td>1</td>\n",
       "    </tr>\n",
       "    <tr>\n",
       "      <th>4</th>\n",
       "      <td>57</td>\n",
       "      <td>0</td>\n",
       "      <td>0</td>\n",
       "      <td>120</td>\n",
       "      <td>354</td>\n",
       "      <td>0</td>\n",
       "      <td>1</td>\n",
       "      <td>163</td>\n",
       "      <td>1</td>\n",
       "      <td>0.6</td>\n",
       "      <td>2</td>\n",
       "      <td>0</td>\n",
       "      <td>2</td>\n",
       "      <td>1</td>\n",
       "    </tr>\n",
       "  </tbody>\n",
       "</table>\n",
       "</div>"
      ],
      "text/plain": [
       "   age  sex  cp  trestbps  chol  fbs  restecg  thalach  exang  oldpeak  slope  \\\n",
       "0   63    1   3       145   233    1        0      150      0      2.3      0   \n",
       "1   37    1   2       130   250    0        1      187      0      3.5      0   \n",
       "2   41    0   1       130   204    0        0      172      0      1.4      2   \n",
       "3   56    1   1       120   236    0        1      178      0      0.8      2   \n",
       "4   57    0   0       120   354    0        1      163      1      0.6      2   \n",
       "\n",
       "   ca  thal  target  \n",
       "0   0     1       1  \n",
       "1   0     2       1  \n",
       "2   0     2       1  \n",
       "3   0     2       1  \n",
       "4   0     2       1  "
      ]
     },
     "execution_count": 64,
     "metadata": {},
     "output_type": "execute_result"
    }
   ],
   "source": [
    "df.head()"
   ]
  },
  {
   "cell_type": "code",
   "execution_count": 65,
   "id": "e0ccd6dc",
   "metadata": {},
   "outputs": [
    {
     "name": "stdout",
     "output_type": "stream",
     "text": [
      "<class 'pandas.core.frame.DataFrame'>\n",
      "RangeIndex: 303 entries, 0 to 302\n",
      "Data columns (total 14 columns):\n",
      " #   Column    Non-Null Count  Dtype  \n",
      "---  ------    --------------  -----  \n",
      " 0   age       303 non-null    int64  \n",
      " 1   sex       303 non-null    int64  \n",
      " 2   cp        303 non-null    int64  \n",
      " 3   trestbps  303 non-null    int64  \n",
      " 4   chol      303 non-null    int64  \n",
      " 5   fbs       303 non-null    int64  \n",
      " 6   restecg   303 non-null    int64  \n",
      " 7   thalach   303 non-null    int64  \n",
      " 8   exang     303 non-null    int64  \n",
      " 9   oldpeak   303 non-null    float64\n",
      " 10  slope     303 non-null    int64  \n",
      " 11  ca        303 non-null    int64  \n",
      " 12  thal      303 non-null    int64  \n",
      " 13  target    303 non-null    int64  \n",
      "dtypes: float64(1), int64(13)\n",
      "memory usage: 33.3 KB\n"
     ]
    }
   ],
   "source": [
    "df.info()"
   ]
  },
  {
   "cell_type": "code",
   "execution_count": 66,
   "id": "cb1cbfdc",
   "metadata": {},
   "outputs": [
    {
     "data": {
      "text/plain": [
       "(303, 14)"
      ]
     },
     "execution_count": 66,
     "metadata": {},
     "output_type": "execute_result"
    }
   ],
   "source": [
    "df.shape"
   ]
  },
  {
   "cell_type": "code",
   "execution_count": 67,
   "id": "76c67dbb",
   "metadata": {},
   "outputs": [
    {
     "data": {
      "text/plain": [
       "age         0\n",
       "sex         0\n",
       "cp          0\n",
       "trestbps    0\n",
       "chol        0\n",
       "fbs         0\n",
       "restecg     0\n",
       "thalach     0\n",
       "exang       0\n",
       "oldpeak     0\n",
       "slope       0\n",
       "ca          0\n",
       "thal        0\n",
       "target      0\n",
       "dtype: int64"
      ]
     },
     "execution_count": 67,
     "metadata": {},
     "output_type": "execute_result"
    }
   ],
   "source": [
    "#Feature Engineering\n",
    "#1st we'll check is there any null values and '0' indicate no null values \n",
    "df.isnull().sum()"
   ]
  },
  {
   "cell_type": "code",
   "execution_count": 68,
   "id": "9759cd4c",
   "metadata": {},
   "outputs": [
    {
     "data": {},
     "metadata": {},
     "output_type": "display_data"
    },
    {
     "data": {
      "application/vnd.holoviews_exec.v0+json": "",
      "text/html": [
       "<div id='1743'>\n",
       "  <div class=\"bk-root\" id=\"cc09c629-cf2c-4219-abf0-3d456b02bc4d\" data-root-id=\"1743\"></div>\n",
       "</div>\n",
       "<script type=\"application/javascript\">(function(root) {\n",
       "  function embed_document(root) {\n",
       "    var docs_json = {\"773531eb-1b0b-4651-9f31-f52f1192a05e\":{\"defs\":[{\"extends\":null,\"module\":null,\"name\":\"ReactiveHTML1\",\"overrides\":[],\"properties\":[]},{\"extends\":null,\"module\":null,\"name\":\"FlexBox1\",\"overrides\":[],\"properties\":[{\"default\":\"flex-start\",\"kind\":null,\"name\":\"align_content\"},{\"default\":\"flex-start\",\"kind\":null,\"name\":\"align_items\"},{\"default\":\"row\",\"kind\":null,\"name\":\"flex_direction\"},{\"default\":\"wrap\",\"kind\":null,\"name\":\"flex_wrap\"},{\"default\":\"flex-start\",\"kind\":null,\"name\":\"justify_content\"}]},{\"extends\":null,\"module\":null,\"name\":\"GridStack1\",\"overrides\":[],\"properties\":[{\"default\":\"warn\",\"kind\":null,\"name\":\"mode\"},{\"default\":null,\"kind\":null,\"name\":\"ncols\"},{\"default\":null,\"kind\":null,\"name\":\"nrows\"},{\"default\":true,\"kind\":null,\"name\":\"allow_resize\"},{\"default\":true,\"kind\":null,\"name\":\"allow_drag\"},{\"default\":[],\"kind\":null,\"name\":\"state\"}]},{\"extends\":null,\"module\":null,\"name\":\"click1\",\"overrides\":[],\"properties\":[{\"default\":\"\",\"kind\":null,\"name\":\"terminal_output\"},{\"default\":\"\",\"kind\":null,\"name\":\"debug_name\"},{\"default\":0,\"kind\":null,\"name\":\"clears\"}]},{\"extends\":null,\"module\":null,\"name\":\"NotificationAreaBase1\",\"overrides\":[],\"properties\":[{\"default\":\"bottom-right\",\"kind\":null,\"name\":\"position\"},{\"default\":0,\"kind\":null,\"name\":\"_clear\"}]},{\"extends\":null,\"module\":null,\"name\":\"NotificationArea1\",\"overrides\":[],\"properties\":[{\"default\":[],\"kind\":null,\"name\":\"notifications\"},{\"default\":\"bottom-right\",\"kind\":null,\"name\":\"position\"},{\"default\":0,\"kind\":null,\"name\":\"_clear\"},{\"default\":[{\"background\":\"#ffc107\",\"icon\":{\"className\":\"fas fa-exclamation-triangle\",\"color\":\"white\",\"tagName\":\"i\"},\"type\":\"warning\"},{\"background\":\"#007bff\",\"icon\":{\"className\":\"fas fa-info-circle\",\"color\":\"white\",\"tagName\":\"i\"},\"type\":\"info\"}],\"kind\":null,\"name\":\"types\"}]},{\"extends\":null,\"module\":null,\"name\":\"Notification\",\"overrides\":[],\"properties\":[{\"default\":null,\"kind\":null,\"name\":\"background\"},{\"default\":3000,\"kind\":null,\"name\":\"duration\"},{\"default\":null,\"kind\":null,\"name\":\"icon\"},{\"default\":\"\",\"kind\":null,\"name\":\"message\"},{\"default\":null,\"kind\":null,\"name\":\"notification_type\"},{\"default\":false,\"kind\":null,\"name\":\"_destroyed\"}]},{\"extends\":null,\"module\":null,\"name\":\"TemplateActions1\",\"overrides\":[],\"properties\":[{\"default\":0,\"kind\":null,\"name\":\"open_modal\"},{\"default\":0,\"kind\":null,\"name\":\"close_modal\"}]},{\"extends\":null,\"module\":null,\"name\":\"MaterialTemplateActions1\",\"overrides\":[],\"properties\":[{\"default\":0,\"kind\":null,\"name\":\"open_modal\"},{\"default\":0,\"kind\":null,\"name\":\"close_modal\"}]}],\"roots\":{\"references\":[{\"attributes\":{},\"id\":\"1766\",\"type\":\"WheelZoomTool\"},{\"attributes\":{\"fill_color\":{\"value\":\"#30a2da\"},\"hatch_color\":{\"value\":\"#30a2da\"},\"top\":{\"field\":\"target\"},\"width\":{\"value\":0.8},\"x\":{\"field\":\"index\"}},\"id\":\"1780\",\"type\":\"VBar\"},{\"attributes\":{\"data\":{\"index\":[\"1\",\"0\"],\"target\":[165,138]},\"selected\":{\"id\":\"1778\"},\"selection_policy\":{\"id\":\"1799\"}},\"id\":\"1777\",\"type\":\"ColumnDataSource\"},{\"attributes\":{\"overlay\":{\"id\":\"1769\"}},\"id\":\"1767\",\"type\":\"BoxZoomTool\"},{\"attributes\":{\"factors\":[\"1\",\"0\"],\"tags\":[[[\"index\",\"index\",null]]]},\"id\":\"1745\",\"type\":\"FactorRange\"},{\"attributes\":{\"bottom_units\":\"screen\",\"coordinates\":null,\"fill_alpha\":0.5,\"fill_color\":\"lightgrey\",\"group\":null,\"left_units\":\"screen\",\"level\":\"overlay\",\"line_alpha\":1.0,\"line_color\":\"black\",\"line_dash\":[4,4],\"line_width\":2,\"right_units\":\"screen\",\"syncable\":false,\"top_units\":\"screen\"},\"id\":\"1769\",\"type\":\"BoxAnnotation\"},{\"attributes\":{},\"id\":\"1768\",\"type\":\"ResetTool\"},{\"attributes\":{},\"id\":\"1753\",\"type\":\"CategoricalScale\"},{\"attributes\":{\"fill_alpha\":{\"value\":0.1},\"fill_color\":{\"value\":\"#30a2da\"},\"hatch_alpha\":{\"value\":0.1},\"hatch_color\":{\"value\":\"#30a2da\"},\"line_alpha\":{\"value\":0.1},\"top\":{\"field\":\"target\"},\"width\":{\"value\":0.8},\"x\":{\"field\":\"index\"}},\"id\":\"1781\",\"type\":\"VBar\"},{\"attributes\":{\"bottom\":{\"value\":0},\"fill_alpha\":{\"value\":1.0},\"fill_color\":{\"value\":\"#30a2da\"},\"hatch_alpha\":{\"value\":1.0},\"hatch_color\":{\"value\":\"#30a2da\"},\"hatch_scale\":{\"value\":12.0},\"hatch_weight\":{\"value\":1.0},\"line_alpha\":{\"value\":1.0},\"line_cap\":{\"value\":\"butt\"},\"line_color\":{\"value\":\"black\"},\"line_dash\":{\"value\":[]},\"line_dash_offset\":{\"value\":0},\"line_join\":{\"value\":\"bevel\"},\"line_width\":{\"value\":1},\"top\":{\"field\":\"target\"},\"width\":{\"value\":0.8},\"x\":{\"field\":\"index\"}},\"id\":\"1785\",\"type\":\"VBar\"},{\"attributes\":{},\"id\":\"1791\",\"type\":\"AllLabels\"},{\"attributes\":{\"source\":{\"id\":\"1777\"}},\"id\":\"1784\",\"type\":\"CDSView\"},{\"attributes\":{},\"id\":\"1778\",\"type\":\"Selection\"},{\"attributes\":{},\"id\":\"1758\",\"type\":\"CategoricalTicker\"},{\"attributes\":{\"coordinates\":null,\"group\":null,\"text\":\"Heart Disease Count\",\"text_color\":\"black\",\"text_font_size\":\"12pt\"},\"id\":\"1749\",\"type\":\"Title\"},{\"attributes\":{\"margin\":[5,5,5,5],\"name\":\"HSpacer01969\",\"sizing_mode\":\"stretch_width\"},\"id\":\"1802\",\"type\":\"Spacer\"},{\"attributes\":{\"children\":[{\"id\":\"1744\"},{\"id\":\"1748\"},{\"id\":\"1802\"}],\"margin\":[0,0,0,0],\"name\":\"Row01964\",\"tags\":[\"embedded\"]},\"id\":\"1743\",\"type\":\"Row\"},{\"attributes\":{},\"id\":\"1788\",\"type\":\"AllLabels\"},{\"attributes\":{\"axis_label\":\"Heart Disease\",\"coordinates\":null,\"formatter\":{\"id\":\"1787\"},\"group\":null,\"major_label_policy\":{\"id\":\"1788\"},\"ticker\":{\"id\":\"1758\"}},\"id\":\"1757\",\"type\":\"CategoricalAxis\"},{\"attributes\":{\"below\":[{\"id\":\"1757\"}],\"center\":[{\"id\":\"1759\"},{\"id\":\"1763\"}],\"height\":350,\"left\":[{\"id\":\"1760\"}],\"margin\":[5,5,5,5],\"min_border_bottom\":10,\"min_border_left\":10,\"min_border_right\":10,\"min_border_top\":10,\"renderers\":[{\"id\":\"1783\"}],\"sizing_mode\":\"fixed\",\"title\":{\"id\":\"1749\"},\"toolbar\":{\"id\":\"1770\"},\"width\":500,\"x_range\":{\"id\":\"1745\"},\"x_scale\":{\"id\":\"1753\"},\"y_range\":{\"id\":\"1746\"},\"y_scale\":{\"id\":\"1755\"}},\"id\":\"1748\",\"subtype\":\"Figure\",\"type\":\"Plot\"},{\"attributes\":{\"tools\":[{\"id\":\"1747\"},{\"id\":\"1764\"},{\"id\":\"1765\"},{\"id\":\"1766\"},{\"id\":\"1767\"},{\"id\":\"1768\"}]},\"id\":\"1770\",\"type\":\"Toolbar\"},{\"attributes\":{},\"id\":\"1764\",\"type\":\"SaveTool\"},{\"attributes\":{},\"id\":\"1761\",\"type\":\"BasicTicker\"},{\"attributes\":{\"callback\":null,\"renderers\":[{\"id\":\"1783\"}],\"tags\":[\"hv_created\"],\"tooltips\":[[\"index\",\"@{index}\"],[\"target\",\"@{target}\"]]},\"id\":\"1747\",\"type\":\"HoverTool\"},{\"attributes\":{\"fill_alpha\":{\"value\":0.2},\"fill_color\":{\"value\":\"#30a2da\"},\"hatch_alpha\":{\"value\":0.2},\"hatch_color\":{\"value\":\"#30a2da\"},\"line_alpha\":{\"value\":0.2},\"top\":{\"field\":\"target\"},\"width\":{\"value\":0.8},\"x\":{\"field\":\"index\"}},\"id\":\"1782\",\"type\":\"VBar\"},{\"attributes\":{\"coordinates\":null,\"data_source\":{\"id\":\"1777\"},\"glyph\":{\"id\":\"1780\"},\"group\":null,\"hover_glyph\":null,\"muted_glyph\":{\"id\":\"1782\"},\"nonselection_glyph\":{\"id\":\"1781\"},\"selection_glyph\":{\"id\":\"1785\"},\"view\":{\"id\":\"1784\"}},\"id\":\"1783\",\"type\":\"GlyphRenderer\"},{\"attributes\":{\"axis\":{\"id\":\"1760\"},\"coordinates\":null,\"dimension\":1,\"grid_line_color\":null,\"group\":null,\"ticker\":null},\"id\":\"1763\",\"type\":\"Grid\"},{\"attributes\":{\"margin\":[5,5,5,5],\"name\":\"HSpacer01968\",\"sizing_mode\":\"stretch_width\"},\"id\":\"1744\",\"type\":\"Spacer\"},{\"attributes\":{\"end\":167.7,\"reset_end\":167.7,\"reset_start\":0.0,\"tags\":[[[\"target\",\"target\",null]]]},\"id\":\"1746\",\"type\":\"Range1d\"},{\"attributes\":{\"axis\":{\"id\":\"1757\"},\"coordinates\":null,\"grid_line_color\":null,\"group\":null,\"ticker\":null},\"id\":\"1759\",\"type\":\"Grid\"},{\"attributes\":{},\"id\":\"1787\",\"type\":\"CategoricalTickFormatter\"},{\"attributes\":{\"axis_label\":\"Count\",\"coordinates\":null,\"formatter\":{\"id\":\"1790\"},\"group\":null,\"major_label_policy\":{\"id\":\"1791\"},\"ticker\":{\"id\":\"1761\"}},\"id\":\"1760\",\"type\":\"LinearAxis\"},{\"attributes\":{},\"id\":\"1755\",\"type\":\"LinearScale\"},{\"attributes\":{},\"id\":\"1799\",\"type\":\"UnionRenderers\"},{\"attributes\":{},\"id\":\"1790\",\"type\":\"BasicTickFormatter\"},{\"attributes\":{},\"id\":\"1765\",\"type\":\"PanTool\"}],\"root_ids\":[\"1743\"]},\"title\":\"Bokeh Application\",\"version\":\"2.4.3\"}};\n",
       "    var render_items = [{\"docid\":\"773531eb-1b0b-4651-9f31-f52f1192a05e\",\"root_ids\":[\"1743\"],\"roots\":{\"1743\":\"cc09c629-cf2c-4219-abf0-3d456b02bc4d\"}}];\n",
       "    root.Bokeh.embed.embed_items_notebook(docs_json, render_items);\n",
       "  }\n",
       "  if (root.Bokeh !== undefined && root.Bokeh.Panel !== undefined) {\n",
       "    embed_document(root);\n",
       "  } else {\n",
       "    var attempts = 0;\n",
       "    var timer = setInterval(function(root) {\n",
       "      if (root.Bokeh !== undefined && root.Bokeh.Panel !== undefined) {\n",
       "        clearInterval(timer);\n",
       "        embed_document(root);\n",
       "      } else if (document.readyState == \"complete\") {\n",
       "        attempts++;\n",
       "        if (attempts > 200) {\n",
       "          clearInterval(timer);\n",
       "          console.log(\"Bokeh: ERROR: Unable to run BokehJS code because BokehJS library is missing\");\n",
       "        }\n",
       "      }\n",
       "    }, 25, root)\n",
       "  }\n",
       "})(window);</script>"
      ],
      "text/plain": [
       ":Bars   [index]   (target)"
      ]
     },
     "execution_count": 68,
     "metadata": {
      "application/vnd.holoviews_exec.v0+json": {
       "id": "1743"
      }
     },
     "output_type": "execute_result"
    }
   ],
   "source": [
    "df.target.value_counts().hvplot.bar(\n",
    "    title=\"Heart Disease Count\", xlabel='Heart Disease', ylabel='Count', \n",
    "    width=500, height=350\n",
    ")"
   ]
  },
  {
   "cell_type": "code",
   "execution_count": 69,
   "id": "4dadf45b",
   "metadata": {},
   "outputs": [
    {
     "data": {},
     "metadata": {},
     "output_type": "display_data"
    },
    {
     "data": {
      "application/vnd.holoviews_exec.v0+json": "",
      "text/html": [
       "<div id='1854'>\n",
       "  <div class=\"bk-root\" id=\"ea424ffa-0220-4fe8-ae83-5479939b8f10\" data-root-id=\"1854\"></div>\n",
       "</div>\n",
       "<script type=\"application/javascript\">(function(root) {\n",
       "  function embed_document(root) {\n",
       "    var docs_json = {\"59840a35-ca75-4eda-b8ab-dba3ebf26cb0\":{\"defs\":[{\"extends\":null,\"module\":null,\"name\":\"ReactiveHTML1\",\"overrides\":[],\"properties\":[]},{\"extends\":null,\"module\":null,\"name\":\"FlexBox1\",\"overrides\":[],\"properties\":[{\"default\":\"flex-start\",\"kind\":null,\"name\":\"align_content\"},{\"default\":\"flex-start\",\"kind\":null,\"name\":\"align_items\"},{\"default\":\"row\",\"kind\":null,\"name\":\"flex_direction\"},{\"default\":\"wrap\",\"kind\":null,\"name\":\"flex_wrap\"},{\"default\":\"flex-start\",\"kind\":null,\"name\":\"justify_content\"}]},{\"extends\":null,\"module\":null,\"name\":\"GridStack1\",\"overrides\":[],\"properties\":[{\"default\":\"warn\",\"kind\":null,\"name\":\"mode\"},{\"default\":null,\"kind\":null,\"name\":\"ncols\"},{\"default\":null,\"kind\":null,\"name\":\"nrows\"},{\"default\":true,\"kind\":null,\"name\":\"allow_resize\"},{\"default\":true,\"kind\":null,\"name\":\"allow_drag\"},{\"default\":[],\"kind\":null,\"name\":\"state\"}]},{\"extends\":null,\"module\":null,\"name\":\"click1\",\"overrides\":[],\"properties\":[{\"default\":\"\",\"kind\":null,\"name\":\"terminal_output\"},{\"default\":\"\",\"kind\":null,\"name\":\"debug_name\"},{\"default\":0,\"kind\":null,\"name\":\"clears\"}]},{\"extends\":null,\"module\":null,\"name\":\"NotificationAreaBase1\",\"overrides\":[],\"properties\":[{\"default\":\"bottom-right\",\"kind\":null,\"name\":\"position\"},{\"default\":0,\"kind\":null,\"name\":\"_clear\"}]},{\"extends\":null,\"module\":null,\"name\":\"NotificationArea1\",\"overrides\":[],\"properties\":[{\"default\":[],\"kind\":null,\"name\":\"notifications\"},{\"default\":\"bottom-right\",\"kind\":null,\"name\":\"position\"},{\"default\":0,\"kind\":null,\"name\":\"_clear\"},{\"default\":[{\"background\":\"#ffc107\",\"icon\":{\"className\":\"fas fa-exclamation-triangle\",\"color\":\"white\",\"tagName\":\"i\"},\"type\":\"warning\"},{\"background\":\"#007bff\",\"icon\":{\"className\":\"fas fa-info-circle\",\"color\":\"white\",\"tagName\":\"i\"},\"type\":\"info\"}],\"kind\":null,\"name\":\"types\"}]},{\"extends\":null,\"module\":null,\"name\":\"Notification\",\"overrides\":[],\"properties\":[{\"default\":null,\"kind\":null,\"name\":\"background\"},{\"default\":3000,\"kind\":null,\"name\":\"duration\"},{\"default\":null,\"kind\":null,\"name\":\"icon\"},{\"default\":\"\",\"kind\":null,\"name\":\"message\"},{\"default\":null,\"kind\":null,\"name\":\"notification_type\"},{\"default\":false,\"kind\":null,\"name\":\"_destroyed\"}]},{\"extends\":null,\"module\":null,\"name\":\"TemplateActions1\",\"overrides\":[],\"properties\":[{\"default\":0,\"kind\":null,\"name\":\"open_modal\"},{\"default\":0,\"kind\":null,\"name\":\"close_modal\"}]},{\"extends\":null,\"module\":null,\"name\":\"MaterialTemplateActions1\",\"overrides\":[],\"properties\":[{\"default\":0,\"kind\":null,\"name\":\"open_modal\"},{\"default\":0,\"kind\":null,\"name\":\"close_modal\"}]}],\"roots\":{\"references\":[{\"attributes\":{\"source\":{\"id\":\"1916\"}},\"id\":\"1923\",\"type\":\"CDSView\"},{\"attributes\":{\"fill_alpha\":{\"value\":0.4},\"fill_color\":{\"value\":\"#fc4f30\"},\"hatch_alpha\":{\"value\":0.1},\"hatch_color\":{\"value\":\"#fc4f30\"},\"line_alpha\":{\"value\":0.4},\"top\":{\"field\":\"sex\"},\"width\":{\"value\":0.8},\"x\":{\"field\":\"index\"}},\"id\":\"1920\",\"type\":\"VBar\"},{\"attributes\":{},\"id\":\"1876\",\"type\":\"SaveTool\"},{\"attributes\":{},\"id\":\"1894\",\"type\":\"AllLabels\"},{\"attributes\":{\"bottom\":{\"value\":0},\"fill_alpha\":{\"value\":0.4},\"fill_color\":{\"value\":\"#fc4f30\"},\"hatch_alpha\":{\"value\":0.4},\"hatch_color\":{\"value\":\"#fc4f30\"},\"hatch_scale\":{\"value\":12.0},\"hatch_weight\":{\"value\":1.0},\"line_alpha\":{\"value\":0.4},\"line_cap\":{\"value\":\"butt\"},\"line_color\":{\"value\":\"black\"},\"line_dash\":{\"value\":[]},\"line_dash_offset\":{\"value\":0},\"line_join\":{\"value\":\"bevel\"},\"line_width\":{\"value\":1},\"top\":{\"field\":\"sex\"},\"width\":{\"value\":0.8},\"x\":{\"field\":\"index\"}},\"id\":\"1936\",\"type\":\"VBar\"},{\"attributes\":{\"fill_alpha\":{\"value\":0.4},\"fill_color\":{\"value\":\"#30a2da\"},\"hatch_alpha\":{\"value\":0.1},\"hatch_color\":{\"value\":\"#30a2da\"},\"line_alpha\":{\"value\":0.4},\"top\":{\"field\":\"sex\"},\"width\":{\"value\":0.8},\"x\":{\"field\":\"index\"}},\"id\":\"1899\",\"type\":\"VBar\"},{\"attributes\":{\"coordinates\":null,\"data_source\":{\"id\":\"1916\"},\"glyph\":{\"id\":\"1919\"},\"group\":null,\"hover_glyph\":null,\"muted_glyph\":{\"id\":\"1921\"},\"nonselection_glyph\":{\"id\":\"1920\"},\"selection_glyph\":{\"id\":\"1936\"},\"view\":{\"id\":\"1923\"}},\"id\":\"1922\",\"type\":\"GlyphRenderer\"},{\"attributes\":{},\"id\":\"1878\",\"type\":\"WheelZoomTool\"},{\"attributes\":{\"overlay\":{\"id\":\"1881\"}},\"id\":\"1879\",\"type\":\"BoxZoomTool\"},{\"attributes\":{\"source\":{\"id\":\"1895\"}},\"id\":\"1902\",\"type\":\"CDSView\"},{\"attributes\":{\"tools\":[{\"id\":\"1858\"},{\"id\":\"1876\"},{\"id\":\"1877\"},{\"id\":\"1878\"},{\"id\":\"1879\"},{\"id\":\"1880\"}]},\"id\":\"1882\",\"type\":\"Toolbar\"},{\"attributes\":{\"axis_label\":\"Sex\",\"coordinates\":null,\"formatter\":{\"id\":\"1890\"},\"group\":null,\"major_label_policy\":{\"id\":\"1891\"},\"ticker\":{\"id\":\"1870\"}},\"id\":\"1869\",\"type\":\"CategoricalAxis\"},{\"attributes\":{\"click_policy\":\"mute\",\"coordinates\":null,\"group\":null,\"items\":[{\"id\":\"1914\"}],\"orientation\":\"horizontal\"},\"id\":\"1913\",\"type\":\"Legend\"},{\"attributes\":{\"fill_alpha\":{\"value\":0.4},\"fill_color\":{\"value\":\"#30a2da\"},\"hatch_alpha\":{\"value\":0.4},\"hatch_color\":{\"value\":\"#30a2da\"},\"line_alpha\":{\"value\":0.4},\"top\":{\"field\":\"sex\"},\"width\":{\"value\":0.8},\"x\":{\"field\":\"index\"}},\"id\":\"1898\",\"type\":\"VBar\"},{\"attributes\":{\"data\":{\"index\":[\"1\",\"0\"],\"sex\":[114,24]},\"selected\":{\"id\":\"1896\"},\"selection_policy\":{\"id\":\"1910\"}},\"id\":\"1895\",\"type\":\"ColumnDataSource\"},{\"attributes\":{\"coordinates\":null,\"data_source\":{\"id\":\"1895\"},\"glyph\":{\"id\":\"1898\"},\"group\":null,\"hover_glyph\":null,\"muted_glyph\":{\"id\":\"1900\"},\"nonselection_glyph\":{\"id\":\"1899\"},\"selection_glyph\":{\"id\":\"1915\"},\"view\":{\"id\":\"1902\"}},\"id\":\"1901\",\"type\":\"GlyphRenderer\"},{\"attributes\":{\"data\":{\"index\":[\"1\",\"0\"],\"sex\":[93,72]},\"selected\":{\"id\":\"1917\"},\"selection_policy\":{\"id\":\"1933\"}},\"id\":\"1916\",\"type\":\"ColumnDataSource\"},{\"attributes\":{\"bottom_units\":\"screen\",\"coordinates\":null,\"fill_alpha\":0.5,\"fill_color\":\"lightgrey\",\"group\":null,\"left_units\":\"screen\",\"level\":\"overlay\",\"line_alpha\":1.0,\"line_color\":\"black\",\"line_dash\":[4,4],\"line_width\":2,\"right_units\":\"screen\",\"syncable\":false,\"top_units\":\"screen\"},\"id\":\"1881\",\"type\":\"BoxAnnotation\"},{\"attributes\":{\"label\":{\"value\":\"sex\"},\"renderers\":[{\"id\":\"1901\"},{\"id\":\"1922\"}]},\"id\":\"1914\",\"type\":\"LegendItem\"},{\"attributes\":{\"fill_alpha\":{\"value\":0.2},\"fill_color\":{\"value\":\"#30a2da\"},\"hatch_alpha\":{\"value\":0.2},\"hatch_color\":{\"value\":\"#30a2da\"},\"line_alpha\":{\"value\":0.2},\"top\":{\"field\":\"sex\"},\"width\":{\"value\":0.8},\"x\":{\"field\":\"index\"}},\"id\":\"1900\",\"type\":\"VBar\"},{\"attributes\":{\"fill_alpha\":{\"value\":0.2},\"fill_color\":{\"value\":\"#fc4f30\"},\"hatch_alpha\":{\"value\":0.2},\"hatch_color\":{\"value\":\"#fc4f30\"},\"line_alpha\":{\"value\":0.2},\"top\":{\"field\":\"sex\"},\"width\":{\"value\":0.8},\"x\":{\"field\":\"index\"}},\"id\":\"1921\",\"type\":\"VBar\"},{\"attributes\":{\"children\":[{\"id\":\"1855\"},{\"id\":\"1860\"},{\"id\":\"1949\"}],\"margin\":[0,0,0,0],\"name\":\"Row02190\",\"tags\":[\"embedded\"]},\"id\":\"1854\",\"type\":\"Row\"},{\"attributes\":{\"callback\":null,\"renderers\":[{\"id\":\"1901\"},{\"id\":\"1922\"}],\"tags\":[\"hv_created\"],\"tooltips\":[[\"index\",\"@{index}\"],[\"sex\",\"@{sex}\"]]},\"id\":\"1858\",\"type\":\"HoverTool\"},{\"attributes\":{},\"id\":\"1890\",\"type\":\"CategoricalTickFormatter\"},{\"attributes\":{\"below\":[{\"id\":\"1869\"}],\"center\":[{\"id\":\"1871\"},{\"id\":\"1875\"},{\"id\":\"1913\"}],\"height\":450,\"left\":[{\"id\":\"1872\"}],\"margin\":[5,5,5,5],\"min_border_bottom\":10,\"min_border_left\":10,\"min_border_right\":10,\"min_border_top\":10,\"renderers\":[{\"id\":\"1901\"},{\"id\":\"1922\"}],\"sizing_mode\":\"fixed\",\"title\":{\"id\":\"1861\"},\"toolbar\":{\"id\":\"1882\"},\"width\":500,\"x_range\":{\"id\":\"1856\"},\"x_scale\":{\"id\":\"1865\"},\"y_range\":{\"id\":\"1857\"},\"y_scale\":{\"id\":\"1867\"}},\"id\":\"1860\",\"subtype\":\"Figure\",\"type\":\"Plot\"},{\"attributes\":{},\"id\":\"1867\",\"type\":\"LinearScale\"},{\"attributes\":{},\"id\":\"1917\",\"type\":\"Selection\"},{\"attributes\":{},\"id\":\"1933\",\"type\":\"UnionRenderers\"},{\"attributes\":{},\"id\":\"1893\",\"type\":\"BasicTickFormatter\"},{\"attributes\":{},\"id\":\"1880\",\"type\":\"ResetTool\"},{\"attributes\":{\"axis\":{\"id\":\"1869\"},\"coordinates\":null,\"grid_line_color\":null,\"group\":null,\"ticker\":null},\"id\":\"1871\",\"type\":\"Grid\"},{\"attributes\":{\"margin\":[5,5,5,5],\"name\":\"HSpacer02195\",\"sizing_mode\":\"stretch_width\"},\"id\":\"1949\",\"type\":\"Spacer\"},{\"attributes\":{\"coordinates\":null,\"group\":null,\"text\":\"Heart Disease by Sex\",\"text_color\":\"black\",\"text_font_size\":\"12pt\"},\"id\":\"1861\",\"type\":\"Title\"},{\"attributes\":{},\"id\":\"1870\",\"type\":\"CategoricalTicker\"},{\"attributes\":{\"axis_label\":\"Count\",\"coordinates\":null,\"formatter\":{\"id\":\"1893\"},\"group\":null,\"major_label_policy\":{\"id\":\"1894\"},\"ticker\":{\"id\":\"1873\"}},\"id\":\"1872\",\"type\":\"LinearAxis\"},{\"attributes\":{\"fill_alpha\":{\"value\":0.4},\"fill_color\":{\"value\":\"#fc4f30\"},\"hatch_alpha\":{\"value\":0.4},\"hatch_color\":{\"value\":\"#fc4f30\"},\"line_alpha\":{\"value\":0.4},\"top\":{\"field\":\"sex\"},\"width\":{\"value\":0.8},\"x\":{\"field\":\"index\"}},\"id\":\"1919\",\"type\":\"VBar\"},{\"attributes\":{},\"id\":\"1865\",\"type\":\"CategoricalScale\"},{\"attributes\":{},\"id\":\"1910\",\"type\":\"UnionRenderers\"},{\"attributes\":{\"margin\":[5,5,5,5],\"name\":\"HSpacer02194\",\"sizing_mode\":\"stretch_width\"},\"id\":\"1855\",\"type\":\"Spacer\"},{\"attributes\":{},\"id\":\"1873\",\"type\":\"BasicTicker\"},{\"attributes\":{\"end\":123.0,\"reset_end\":123.0,\"reset_start\":0.0,\"tags\":[[[\"sex\",\"sex\",null]]]},\"id\":\"1857\",\"type\":\"Range1d\"},{\"attributes\":{},\"id\":\"1891\",\"type\":\"AllLabels\"},{\"attributes\":{\"factors\":[\"1\",\"0\"],\"tags\":[[[\"index\",\"index\",null]]]},\"id\":\"1856\",\"type\":\"FactorRange\"},{\"attributes\":{\"axis\":{\"id\":\"1872\"},\"coordinates\":null,\"dimension\":1,\"grid_line_color\":null,\"group\":null,\"ticker\":null},\"id\":\"1875\",\"type\":\"Grid\"},{\"attributes\":{\"bottom\":{\"value\":0},\"fill_alpha\":{\"value\":0.4},\"fill_color\":{\"value\":\"#30a2da\"},\"hatch_alpha\":{\"value\":0.4},\"hatch_color\":{\"value\":\"#30a2da\"},\"hatch_scale\":{\"value\":12.0},\"hatch_weight\":{\"value\":1.0},\"line_alpha\":{\"value\":0.4},\"line_cap\":{\"value\":\"butt\"},\"line_color\":{\"value\":\"black\"},\"line_dash\":{\"value\":[]},\"line_dash_offset\":{\"value\":0},\"line_join\":{\"value\":\"bevel\"},\"line_width\":{\"value\":1},\"top\":{\"field\":\"sex\"},\"width\":{\"value\":0.8},\"x\":{\"field\":\"index\"}},\"id\":\"1915\",\"type\":\"VBar\"},{\"attributes\":{},\"id\":\"1877\",\"type\":\"PanTool\"},{\"attributes\":{},\"id\":\"1896\",\"type\":\"Selection\"}],\"root_ids\":[\"1854\"]},\"title\":\"Bokeh Application\",\"version\":\"2.4.3\"}};\n",
       "    var render_items = [{\"docid\":\"59840a35-ca75-4eda-b8ab-dba3ebf26cb0\",\"root_ids\":[\"1854\"],\"roots\":{\"1854\":\"ea424ffa-0220-4fe8-ae83-5479939b8f10\"}}];\n",
       "    root.Bokeh.embed.embed_items_notebook(docs_json, render_items);\n",
       "  }\n",
       "  if (root.Bokeh !== undefined && root.Bokeh.Panel !== undefined) {\n",
       "    embed_document(root);\n",
       "  } else {\n",
       "    var attempts = 0;\n",
       "    var timer = setInterval(function(root) {\n",
       "      if (root.Bokeh !== undefined && root.Bokeh.Panel !== undefined) {\n",
       "        clearInterval(timer);\n",
       "        embed_document(root);\n",
       "      } else if (document.readyState == \"complete\") {\n",
       "        attempts++;\n",
       "        if (attempts > 200) {\n",
       "          clearInterval(timer);\n",
       "          console.log(\"Bokeh: ERROR: Unable to run BokehJS code because BokehJS library is missing\");\n",
       "        }\n",
       "      }\n",
       "    }, 25, root)\n",
       "  }\n",
       "})(window);</script>"
      ],
      "text/plain": [
       ":Overlay\n",
       "   .Bars.Sex.I  :Bars   [index]   (sex)\n",
       "   .Bars.Sex.II :Bars   [index]   (sex)"
      ]
     },
     "execution_count": 69,
     "metadata": {
      "application/vnd.holoviews_exec.v0+json": {
       "id": "1854"
      }
     },
     "output_type": "execute_result"
    }
   ],
   "source": [
    "#Evaluating according to sex\n",
    "with_disease = df.loc[df['target']==1, 'sex'].value_counts().hvplot.bar(alpha=0.4) \n",
    "without_disease = df.loc[df['target']==0, 'sex'].value_counts().hvplot.bar(alpha=0.4) \n",
    "\n",
    "(without_disease * with_disease).opts(\n",
    "    title=\"Heart Disease by Sex\", xlabel='Sex', ylabel='Count',\n",
    "    width=500, height=450, legend_cols=2, legend_position='top_right'\n",
    ")"
   ]
  },
  {
   "cell_type": "code",
   "execution_count": 70,
   "id": "5f23f366",
   "metadata": {},
   "outputs": [
    {
     "data": {},
     "metadata": {},
     "output_type": "display_data"
    },
    {
     "data": {
      "application/vnd.holoviews_exec.v0+json": "",
      "text/html": [
       "<div id='2011'>\n",
       "  <div class=\"bk-root\" id=\"0f4797e2-a77f-4e17-8295-a93d641f0765\" data-root-id=\"2011\"></div>\n",
       "</div>\n",
       "<script type=\"application/javascript\">(function(root) {\n",
       "  function embed_document(root) {\n",
       "    var docs_json = {\"2ee5b774-9577-419d-aa3c-93224144d950\":{\"defs\":[{\"extends\":null,\"module\":null,\"name\":\"ReactiveHTML1\",\"overrides\":[],\"properties\":[]},{\"extends\":null,\"module\":null,\"name\":\"FlexBox1\",\"overrides\":[],\"properties\":[{\"default\":\"flex-start\",\"kind\":null,\"name\":\"align_content\"},{\"default\":\"flex-start\",\"kind\":null,\"name\":\"align_items\"},{\"default\":\"row\",\"kind\":null,\"name\":\"flex_direction\"},{\"default\":\"wrap\",\"kind\":null,\"name\":\"flex_wrap\"},{\"default\":\"flex-start\",\"kind\":null,\"name\":\"justify_content\"}]},{\"extends\":null,\"module\":null,\"name\":\"GridStack1\",\"overrides\":[],\"properties\":[{\"default\":\"warn\",\"kind\":null,\"name\":\"mode\"},{\"default\":null,\"kind\":null,\"name\":\"ncols\"},{\"default\":null,\"kind\":null,\"name\":\"nrows\"},{\"default\":true,\"kind\":null,\"name\":\"allow_resize\"},{\"default\":true,\"kind\":null,\"name\":\"allow_drag\"},{\"default\":[],\"kind\":null,\"name\":\"state\"}]},{\"extends\":null,\"module\":null,\"name\":\"click1\",\"overrides\":[],\"properties\":[{\"default\":\"\",\"kind\":null,\"name\":\"terminal_output\"},{\"default\":\"\",\"kind\":null,\"name\":\"debug_name\"},{\"default\":0,\"kind\":null,\"name\":\"clears\"}]},{\"extends\":null,\"module\":null,\"name\":\"NotificationAreaBase1\",\"overrides\":[],\"properties\":[{\"default\":\"bottom-right\",\"kind\":null,\"name\":\"position\"},{\"default\":0,\"kind\":null,\"name\":\"_clear\"}]},{\"extends\":null,\"module\":null,\"name\":\"NotificationArea1\",\"overrides\":[],\"properties\":[{\"default\":[],\"kind\":null,\"name\":\"notifications\"},{\"default\":\"bottom-right\",\"kind\":null,\"name\":\"position\"},{\"default\":0,\"kind\":null,\"name\":\"_clear\"},{\"default\":[{\"background\":\"#ffc107\",\"icon\":{\"className\":\"fas fa-exclamation-triangle\",\"color\":\"white\",\"tagName\":\"i\"},\"type\":\"warning\"},{\"background\":\"#007bff\",\"icon\":{\"className\":\"fas fa-info-circle\",\"color\":\"white\",\"tagName\":\"i\"},\"type\":\"info\"}],\"kind\":null,\"name\":\"types\"}]},{\"extends\":null,\"module\":null,\"name\":\"Notification\",\"overrides\":[],\"properties\":[{\"default\":null,\"kind\":null,\"name\":\"background\"},{\"default\":3000,\"kind\":null,\"name\":\"duration\"},{\"default\":null,\"kind\":null,\"name\":\"icon\"},{\"default\":\"\",\"kind\":null,\"name\":\"message\"},{\"default\":null,\"kind\":null,\"name\":\"notification_type\"},{\"default\":false,\"kind\":null,\"name\":\"_destroyed\"}]},{\"extends\":null,\"module\":null,\"name\":\"TemplateActions1\",\"overrides\":[],\"properties\":[{\"default\":0,\"kind\":null,\"name\":\"open_modal\"},{\"default\":0,\"kind\":null,\"name\":\"close_modal\"}]},{\"extends\":null,\"module\":null,\"name\":\"MaterialTemplateActions1\",\"overrides\":[],\"properties\":[{\"default\":0,\"kind\":null,\"name\":\"open_modal\"},{\"default\":0,\"kind\":null,\"name\":\"close_modal\"}]}],\"roots\":{\"references\":[{\"attributes\":{},\"id\":\"2051\",\"type\":\"AllLabels\"},{\"attributes\":{\"coordinates\":null,\"data_source\":{\"id\":\"2073\"},\"glyph\":{\"id\":\"2076\"},\"group\":null,\"hover_glyph\":null,\"muted_glyph\":{\"id\":\"2078\"},\"nonselection_glyph\":{\"id\":\"2077\"},\"selection_glyph\":{\"id\":\"2093\"},\"view\":{\"id\":\"2080\"}},\"id\":\"2079\",\"type\":\"GlyphRenderer\"},{\"attributes\":{\"axis\":{\"id\":\"2026\"},\"coordinates\":null,\"grid_line_color\":null,\"group\":null,\"ticker\":null},\"id\":\"2028\",\"type\":\"Grid\"},{\"attributes\":{},\"id\":\"2074\",\"type\":\"Selection\"},{\"attributes\":{\"fill_alpha\":{\"value\":0.4},\"fill_color\":{\"value\":\"#fc4f30\"},\"hatch_alpha\":{\"value\":0.1},\"hatch_color\":{\"value\":\"#fc4f30\"},\"line_alpha\":{\"value\":0.4},\"top\":{\"field\":\"cp\"},\"width\":{\"value\":0.8},\"x\":{\"field\":\"index\"}},\"id\":\"2077\",\"type\":\"VBar\"},{\"attributes\":{\"coordinates\":null,\"group\":null,\"text\":\"Heart Disease by Chest Pain Type\",\"text_color\":\"black\",\"text_font_size\":\"12pt\"},\"id\":\"2018\",\"type\":\"Title\"},{\"attributes\":{\"data\":{\"cp\":[104,18,9,7],\"index\":[\"0\",\"2\",\"1\",\"3\"]},\"selected\":{\"id\":\"2053\"},\"selection_policy\":{\"id\":\"2067\"}},\"id\":\"2052\",\"type\":\"ColumnDataSource\"},{\"attributes\":{\"bottom\":{\"value\":0},\"fill_alpha\":{\"value\":0.4},\"fill_color\":{\"value\":\"#30a2da\"},\"hatch_alpha\":{\"value\":0.4},\"hatch_color\":{\"value\":\"#30a2da\"},\"hatch_scale\":{\"value\":12.0},\"hatch_weight\":{\"value\":1.0},\"line_alpha\":{\"value\":0.4},\"line_cap\":{\"value\":\"butt\"},\"line_color\":{\"value\":\"black\"},\"line_dash\":{\"value\":[]},\"line_dash_offset\":{\"value\":0},\"line_join\":{\"value\":\"bevel\"},\"line_width\":{\"value\":1},\"top\":{\"field\":\"cp\"},\"width\":{\"value\":0.8},\"x\":{\"field\":\"index\"}},\"id\":\"2072\",\"type\":\"VBar\"},{\"attributes\":{},\"id\":\"2050\",\"type\":\"BasicTickFormatter\"},{\"attributes\":{\"source\":{\"id\":\"2052\"}},\"id\":\"2059\",\"type\":\"CDSView\"},{\"attributes\":{\"axis_label\":\"Chest Pain Type\",\"coordinates\":null,\"formatter\":{\"id\":\"2047\"},\"group\":null,\"major_label_policy\":{\"id\":\"2048\"},\"ticker\":{\"id\":\"2027\"}},\"id\":\"2026\",\"type\":\"CategoricalAxis\"},{\"attributes\":{\"fill_alpha\":{\"value\":0.2},\"fill_color\":{\"value\":\"#30a2da\"},\"hatch_alpha\":{\"value\":0.2},\"hatch_color\":{\"value\":\"#30a2da\"},\"line_alpha\":{\"value\":0.2},\"top\":{\"field\":\"cp\"},\"width\":{\"value\":0.8},\"x\":{\"field\":\"index\"}},\"id\":\"2057\",\"type\":\"VBar\"},{\"attributes\":{},\"id\":\"2033\",\"type\":\"SaveTool\"},{\"attributes\":{\"axis\":{\"id\":\"2029\"},\"coordinates\":null,\"dimension\":1,\"grid_line_color\":null,\"group\":null,\"ticker\":null},\"id\":\"2032\",\"type\":\"Grid\"},{\"attributes\":{\"overlay\":{\"id\":\"2038\"}},\"id\":\"2036\",\"type\":\"BoxZoomTool\"},{\"attributes\":{\"data\":{\"cp\":[69,41,39,16],\"index\":[\"2\",\"1\",\"0\",\"3\"]},\"selected\":{\"id\":\"2074\"},\"selection_policy\":{\"id\":\"2090\"}},\"id\":\"2073\",\"type\":\"ColumnDataSource\"},{\"attributes\":{},\"id\":\"2035\",\"type\":\"WheelZoomTool\"},{\"attributes\":{},\"id\":\"2022\",\"type\":\"CategoricalScale\"},{\"attributes\":{},\"id\":\"2027\",\"type\":\"CategoricalTicker\"},{\"attributes\":{},\"id\":\"2067\",\"type\":\"UnionRenderers\"},{\"attributes\":{\"fill_alpha\":{\"value\":0.2},\"fill_color\":{\"value\":\"#fc4f30\"},\"hatch_alpha\":{\"value\":0.2},\"hatch_color\":{\"value\":\"#fc4f30\"},\"line_alpha\":{\"value\":0.2},\"top\":{\"field\":\"cp\"},\"width\":{\"value\":0.8},\"x\":{\"field\":\"index\"}},\"id\":\"2078\",\"type\":\"VBar\"},{\"attributes\":{},\"id\":\"2024\",\"type\":\"LinearScale\"},{\"attributes\":{\"fill_alpha\":{\"value\":0.4},\"fill_color\":{\"value\":\"#30a2da\"},\"hatch_alpha\":{\"value\":0.4},\"hatch_color\":{\"value\":\"#30a2da\"},\"line_alpha\":{\"value\":0.4},\"top\":{\"field\":\"cp\"},\"width\":{\"value\":0.8},\"x\":{\"field\":\"index\"}},\"id\":\"2055\",\"type\":\"VBar\"},{\"attributes\":{\"coordinates\":null,\"data_source\":{\"id\":\"2052\"},\"glyph\":{\"id\":\"2055\"},\"group\":null,\"hover_glyph\":null,\"muted_glyph\":{\"id\":\"2057\"},\"nonselection_glyph\":{\"id\":\"2056\"},\"selection_glyph\":{\"id\":\"2072\"},\"view\":{\"id\":\"2059\"}},\"id\":\"2058\",\"type\":\"GlyphRenderer\"},{\"attributes\":{\"bottom_units\":\"screen\",\"coordinates\":null,\"fill_alpha\":0.5,\"fill_color\":\"lightgrey\",\"group\":null,\"left_units\":\"screen\",\"level\":\"overlay\",\"line_alpha\":1.0,\"line_color\":\"black\",\"line_dash\":[4,4],\"line_width\":2,\"right_units\":\"screen\",\"syncable\":false,\"top_units\":\"screen\"},\"id\":\"2038\",\"type\":\"BoxAnnotation\"},{\"attributes\":{\"fill_alpha\":{\"value\":0.4},\"fill_color\":{\"value\":\"#fc4f30\"},\"hatch_alpha\":{\"value\":0.4},\"hatch_color\":{\"value\":\"#fc4f30\"},\"line_alpha\":{\"value\":0.4},\"top\":{\"field\":\"cp\"},\"width\":{\"value\":0.8},\"x\":{\"field\":\"index\"}},\"id\":\"2076\",\"type\":\"VBar\"},{\"attributes\":{\"click_policy\":\"mute\",\"coordinates\":null,\"group\":null,\"items\":[{\"id\":\"2071\"}],\"orientation\":\"horizontal\"},\"id\":\"2070\",\"type\":\"Legend\"},{\"attributes\":{\"label\":{\"value\":\"cp\"},\"renderers\":[{\"id\":\"2058\"},{\"id\":\"2079\"}]},\"id\":\"2071\",\"type\":\"LegendItem\"},{\"attributes\":{\"axis_label\":\"Count\",\"coordinates\":null,\"formatter\":{\"id\":\"2050\"},\"group\":null,\"major_label_policy\":{\"id\":\"2051\"},\"ticker\":{\"id\":\"2030\"}},\"id\":\"2029\",\"type\":\"LinearAxis\"},{\"attributes\":{\"children\":[{\"id\":\"2012\"},{\"id\":\"2017\"},{\"id\":\"2106\"}],\"margin\":[0,0,0,0],\"name\":\"Row02446\",\"tags\":[\"embedded\"]},\"id\":\"2011\",\"type\":\"Row\"},{\"attributes\":{},\"id\":\"2030\",\"type\":\"BasicTicker\"},{\"attributes\":{\"factors\":[\"0\",\"2\",\"1\",\"3\"],\"tags\":[[[\"index\",\"index\",null]]]},\"id\":\"2013\",\"type\":\"FactorRange\"},{\"attributes\":{\"end\":113.7,\"reset_end\":113.7,\"reset_start\":0.0,\"tags\":[[[\"cp\",\"cp\",null]]]},\"id\":\"2014\",\"type\":\"Range1d\"},{\"attributes\":{\"source\":{\"id\":\"2073\"}},\"id\":\"2080\",\"type\":\"CDSView\"},{\"attributes\":{\"bottom\":{\"value\":0},\"fill_alpha\":{\"value\":0.4},\"fill_color\":{\"value\":\"#fc4f30\"},\"hatch_alpha\":{\"value\":0.4},\"hatch_color\":{\"value\":\"#fc4f30\"},\"hatch_scale\":{\"value\":12.0},\"hatch_weight\":{\"value\":1.0},\"line_alpha\":{\"value\":0.4},\"line_cap\":{\"value\":\"butt\"},\"line_color\":{\"value\":\"black\"},\"line_dash\":{\"value\":[]},\"line_dash_offset\":{\"value\":0},\"line_join\":{\"value\":\"bevel\"},\"line_width\":{\"value\":1},\"top\":{\"field\":\"cp\"},\"width\":{\"value\":0.8},\"x\":{\"field\":\"index\"}},\"id\":\"2093\",\"type\":\"VBar\"},{\"attributes\":{\"callback\":null,\"renderers\":[{\"id\":\"2058\"},{\"id\":\"2079\"}],\"tags\":[\"hv_created\"],\"tooltips\":[[\"index\",\"@{index}\"],[\"cp\",\"@{cp}\"]]},\"id\":\"2015\",\"type\":\"HoverTool\"},{\"attributes\":{},\"id\":\"2048\",\"type\":\"AllLabels\"},{\"attributes\":{},\"id\":\"2053\",\"type\":\"Selection\"},{\"attributes\":{\"below\":[{\"id\":\"2026\"}],\"center\":[{\"id\":\"2028\"},{\"id\":\"2032\"},{\"id\":\"2070\"}],\"height\":450,\"left\":[{\"id\":\"2029\"}],\"margin\":[5,5,5,5],\"min_border_bottom\":10,\"min_border_left\":10,\"min_border_right\":10,\"min_border_top\":10,\"renderers\":[{\"id\":\"2058\"},{\"id\":\"2079\"}],\"sizing_mode\":\"fixed\",\"title\":{\"id\":\"2018\"},\"toolbar\":{\"id\":\"2039\"},\"width\":500,\"x_range\":{\"id\":\"2013\"},\"x_scale\":{\"id\":\"2022\"},\"y_range\":{\"id\":\"2014\"},\"y_scale\":{\"id\":\"2024\"}},\"id\":\"2017\",\"subtype\":\"Figure\",\"type\":\"Plot\"},{\"attributes\":{\"margin\":[5,5,5,5],\"name\":\"HSpacer02451\",\"sizing_mode\":\"stretch_width\"},\"id\":\"2106\",\"type\":\"Spacer\"},{\"attributes\":{},\"id\":\"2037\",\"type\":\"ResetTool\"},{\"attributes\":{},\"id\":\"2034\",\"type\":\"PanTool\"},{\"attributes\":{\"margin\":[5,5,5,5],\"name\":\"HSpacer02450\",\"sizing_mode\":\"stretch_width\"},\"id\":\"2012\",\"type\":\"Spacer\"},{\"attributes\":{\"fill_alpha\":{\"value\":0.4},\"fill_color\":{\"value\":\"#30a2da\"},\"hatch_alpha\":{\"value\":0.1},\"hatch_color\":{\"value\":\"#30a2da\"},\"line_alpha\":{\"value\":0.4},\"top\":{\"field\":\"cp\"},\"width\":{\"value\":0.8},\"x\":{\"field\":\"index\"}},\"id\":\"2056\",\"type\":\"VBar\"},{\"attributes\":{},\"id\":\"2090\",\"type\":\"UnionRenderers\"},{\"attributes\":{\"tools\":[{\"id\":\"2015\"},{\"id\":\"2033\"},{\"id\":\"2034\"},{\"id\":\"2035\"},{\"id\":\"2036\"},{\"id\":\"2037\"}]},\"id\":\"2039\",\"type\":\"Toolbar\"},{\"attributes\":{},\"id\":\"2047\",\"type\":\"CategoricalTickFormatter\"}],\"root_ids\":[\"2011\"]},\"title\":\"Bokeh Application\",\"version\":\"2.4.3\"}};\n",
       "    var render_items = [{\"docid\":\"2ee5b774-9577-419d-aa3c-93224144d950\",\"root_ids\":[\"2011\"],\"roots\":{\"2011\":\"0f4797e2-a77f-4e17-8295-a93d641f0765\"}}];\n",
       "    root.Bokeh.embed.embed_items_notebook(docs_json, render_items);\n",
       "  }\n",
       "  if (root.Bokeh !== undefined && root.Bokeh.Panel !== undefined) {\n",
       "    embed_document(root);\n",
       "  } else {\n",
       "    var attempts = 0;\n",
       "    var timer = setInterval(function(root) {\n",
       "      if (root.Bokeh !== undefined && root.Bokeh.Panel !== undefined) {\n",
       "        clearInterval(timer);\n",
       "        embed_document(root);\n",
       "      } else if (document.readyState == \"complete\") {\n",
       "        attempts++;\n",
       "        if (attempts > 200) {\n",
       "          clearInterval(timer);\n",
       "          console.log(\"Bokeh: ERROR: Unable to run BokehJS code because BokehJS library is missing\");\n",
       "        }\n",
       "      }\n",
       "    }, 25, root)\n",
       "  }\n",
       "})(window);</script>"
      ],
      "text/plain": [
       ":Overlay\n",
       "   .Bars.Cp.I  :Bars   [index]   (cp)\n",
       "   .Bars.Cp.II :Bars   [index]   (cp)"
      ]
     },
     "execution_count": 70,
     "metadata": {
      "application/vnd.holoviews_exec.v0+json": {
       "id": "2011"
      }
     },
     "output_type": "execute_result"
    }
   ],
   "source": [
    "with_disease = df.loc[df['target']==1, 'cp'].value_counts().hvplot.bar(alpha=0.4) \n",
    "without_disease = df.loc[df['target']==0, 'cp'].value_counts().hvplot.bar(alpha=0.4) \n",
    "\n",
    "(without_disease * with_disease).opts(\n",
    "    title=\"Heart Disease by Chest Pain Type\", xlabel='Chest Pain Type', ylabel='Count',\n",
    "    width=500, height=450, legend_cols=2, legend_position='top_right'\n",
    ")"
   ]
  },
  {
   "cell_type": "code",
   "execution_count": 71,
   "id": "32bf4da0",
   "metadata": {},
   "outputs": [
    {
     "data": {},
     "metadata": {},
     "output_type": "display_data"
    },
    {
     "data": {
      "application/vnd.holoviews_exec.v0+json": "",
      "text/html": [
       "<div id='2168'>\n",
       "  <div class=\"bk-root\" id=\"75ca6776-9ba0-47b2-b9d3-89d0d7088120\" data-root-id=\"2168\"></div>\n",
       "</div>\n",
       "<script type=\"application/javascript\">(function(root) {\n",
       "  function embed_document(root) {\n",
       "    var docs_json = {\"28d979a9-1151-4a53-b483-d1b65ea41d5c\":{\"defs\":[{\"extends\":null,\"module\":null,\"name\":\"ReactiveHTML1\",\"overrides\":[],\"properties\":[]},{\"extends\":null,\"module\":null,\"name\":\"FlexBox1\",\"overrides\":[],\"properties\":[{\"default\":\"flex-start\",\"kind\":null,\"name\":\"align_content\"},{\"default\":\"flex-start\",\"kind\":null,\"name\":\"align_items\"},{\"default\":\"row\",\"kind\":null,\"name\":\"flex_direction\"},{\"default\":\"wrap\",\"kind\":null,\"name\":\"flex_wrap\"},{\"default\":\"flex-start\",\"kind\":null,\"name\":\"justify_content\"}]},{\"extends\":null,\"module\":null,\"name\":\"GridStack1\",\"overrides\":[],\"properties\":[{\"default\":\"warn\",\"kind\":null,\"name\":\"mode\"},{\"default\":null,\"kind\":null,\"name\":\"ncols\"},{\"default\":null,\"kind\":null,\"name\":\"nrows\"},{\"default\":true,\"kind\":null,\"name\":\"allow_resize\"},{\"default\":true,\"kind\":null,\"name\":\"allow_drag\"},{\"default\":[],\"kind\":null,\"name\":\"state\"}]},{\"extends\":null,\"module\":null,\"name\":\"click1\",\"overrides\":[],\"properties\":[{\"default\":\"\",\"kind\":null,\"name\":\"terminal_output\"},{\"default\":\"\",\"kind\":null,\"name\":\"debug_name\"},{\"default\":0,\"kind\":null,\"name\":\"clears\"}]},{\"extends\":null,\"module\":null,\"name\":\"NotificationAreaBase1\",\"overrides\":[],\"properties\":[{\"default\":\"bottom-right\",\"kind\":null,\"name\":\"position\"},{\"default\":0,\"kind\":null,\"name\":\"_clear\"}]},{\"extends\":null,\"module\":null,\"name\":\"NotificationArea1\",\"overrides\":[],\"properties\":[{\"default\":[],\"kind\":null,\"name\":\"notifications\"},{\"default\":\"bottom-right\",\"kind\":null,\"name\":\"position\"},{\"default\":0,\"kind\":null,\"name\":\"_clear\"},{\"default\":[{\"background\":\"#ffc107\",\"icon\":{\"className\":\"fas fa-exclamation-triangle\",\"color\":\"white\",\"tagName\":\"i\"},\"type\":\"warning\"},{\"background\":\"#007bff\",\"icon\":{\"className\":\"fas fa-info-circle\",\"color\":\"white\",\"tagName\":\"i\"},\"type\":\"info\"}],\"kind\":null,\"name\":\"types\"}]},{\"extends\":null,\"module\":null,\"name\":\"Notification\",\"overrides\":[],\"properties\":[{\"default\":null,\"kind\":null,\"name\":\"background\"},{\"default\":3000,\"kind\":null,\"name\":\"duration\"},{\"default\":null,\"kind\":null,\"name\":\"icon\"},{\"default\":\"\",\"kind\":null,\"name\":\"message\"},{\"default\":null,\"kind\":null,\"name\":\"notification_type\"},{\"default\":false,\"kind\":null,\"name\":\"_destroyed\"}]},{\"extends\":null,\"module\":null,\"name\":\"TemplateActions1\",\"overrides\":[],\"properties\":[{\"default\":0,\"kind\":null,\"name\":\"open_modal\"},{\"default\":0,\"kind\":null,\"name\":\"close_modal\"}]},{\"extends\":null,\"module\":null,\"name\":\"MaterialTemplateActions1\",\"overrides\":[],\"properties\":[{\"default\":0,\"kind\":null,\"name\":\"open_modal\"},{\"default\":0,\"kind\":null,\"name\":\"close_modal\"}]}],\"roots\":{\"references\":[{\"attributes\":{\"factors\":[\"0\",\"1\",\"2\",\"3\"],\"tags\":[[[\"index\",\"index\",null]]]},\"id\":\"2170\",\"type\":\"FactorRange\"},{\"attributes\":{\"fill_alpha\":{\"value\":0.4},\"fill_color\":{\"value\":\"#fc4f30\"},\"hatch_alpha\":{\"value\":0.4},\"hatch_color\":{\"value\":\"#fc4f30\"},\"line_alpha\":{\"value\":0.4},\"top\":{\"field\":\"cp\"},\"width\":{\"value\":0.8},\"x\":{\"field\":\"index\"}},\"id\":\"2234\",\"type\":\"VBar\"},{\"attributes\":{\"coordinates\":null,\"data_source\":{\"id\":\"2231\"},\"glyph\":{\"id\":\"2234\"},\"group\":null,\"hover_glyph\":null,\"muted_glyph\":{\"id\":\"2236\"},\"nonselection_glyph\":{\"id\":\"2235\"},\"selection_glyph\":{\"id\":\"2252\"},\"view\":{\"id\":\"2238\"}},\"id\":\"2237\",\"type\":\"GlyphRenderer\"},{\"attributes\":{},\"id\":\"2205\",\"type\":\"CategoricalTickFormatter\"},{\"attributes\":{\"end\":126.0,\"reset_end\":126.0,\"reset_start\":0.0,\"tags\":[[[\"fbs\",\"fbs\",null]]]},\"id\":\"2171\",\"type\":\"Range1d\"},{\"attributes\":{\"axis\":{\"id\":\"2186\"},\"coordinates\":null,\"dimension\":1,\"grid_line_color\":null,\"group\":null,\"ticker\":null},\"id\":\"2189\",\"type\":\"Grid\"},{\"attributes\":{\"data\":{\"fbs\":[116,22],\"index\":[\"0\",\"1\"]},\"selected\":{\"id\":\"2211\"},\"selection_policy\":{\"id\":\"2225\"}},\"id\":\"2210\",\"type\":\"ColumnDataSource\"},{\"attributes\":{\"coordinates\":null,\"data_source\":{\"id\":\"2210\"},\"glyph\":{\"id\":\"2213\"},\"group\":null,\"hover_glyph\":null,\"muted_glyph\":{\"id\":\"2215\"},\"nonselection_glyph\":{\"id\":\"2214\"},\"selection_glyph\":{\"id\":\"2230\"},\"view\":{\"id\":\"2217\"}},\"id\":\"2216\",\"type\":\"GlyphRenderer\"},{\"attributes\":{\"click_policy\":\"mute\",\"coordinates\":null,\"group\":null,\"items\":[{\"id\":\"2229\"},{\"id\":\"2251\"}],\"orientation\":\"horizontal\"},\"id\":\"2228\",\"type\":\"Legend\"},{\"attributes\":{},\"id\":\"2248\",\"type\":\"UnionRenderers\"},{\"attributes\":{\"fill_alpha\":{\"value\":0.4},\"fill_color\":{\"value\":\"#30a2da\"},\"hatch_alpha\":{\"value\":0.1},\"hatch_color\":{\"value\":\"#30a2da\"},\"line_alpha\":{\"value\":0.4},\"top\":{\"field\":\"fbs\"},\"width\":{\"value\":0.8},\"x\":{\"field\":\"index\"}},\"id\":\"2214\",\"type\":\"VBar\"},{\"attributes\":{},\"id\":\"2225\",\"type\":\"UnionRenderers\"},{\"attributes\":{\"source\":{\"id\":\"2231\"}},\"id\":\"2238\",\"type\":\"CDSView\"},{\"attributes\":{},\"id\":\"2190\",\"type\":\"SaveTool\"},{\"attributes\":{\"bottom\":{\"value\":0},\"fill_alpha\":{\"value\":0.4},\"fill_color\":{\"value\":\"#30a2da\"},\"hatch_alpha\":{\"value\":0.4},\"hatch_color\":{\"value\":\"#30a2da\"},\"hatch_scale\":{\"value\":12.0},\"hatch_weight\":{\"value\":1.0},\"line_alpha\":{\"value\":0.4},\"line_cap\":{\"value\":\"butt\"},\"line_color\":{\"value\":\"black\"},\"line_dash\":{\"value\":[]},\"line_dash_offset\":{\"value\":0},\"line_join\":{\"value\":\"bevel\"},\"line_width\":{\"value\":1},\"top\":{\"field\":\"fbs\"},\"width\":{\"value\":0.8},\"x\":{\"field\":\"index\"}},\"id\":\"2230\",\"type\":\"VBar\"},{\"attributes\":{\"source\":{\"id\":\"2210\"}},\"id\":\"2217\",\"type\":\"CDSView\"},{\"attributes\":{},\"id\":\"2184\",\"type\":\"CategoricalTicker\"},{\"attributes\":{\"label\":{\"value\":\"cp\"},\"renderers\":[{\"id\":\"2237\"}]},\"id\":\"2251\",\"type\":\"LegendItem\"},{\"attributes\":{},\"id\":\"2187\",\"type\":\"BasicTicker\"},{\"attributes\":{},\"id\":\"2232\",\"type\":\"Selection\"},{\"attributes\":{\"coordinates\":null,\"group\":null,\"text\":\"Heart Disease by fasting blood sugar\",\"text_color\":\"black\",\"text_font_size\":\"12pt\"},\"id\":\"2175\",\"type\":\"Title\"},{\"attributes\":{},\"id\":\"2179\",\"type\":\"CategoricalScale\"},{\"attributes\":{\"bottom_units\":\"screen\",\"coordinates\":null,\"fill_alpha\":0.5,\"fill_color\":\"lightgrey\",\"group\":null,\"left_units\":\"screen\",\"level\":\"overlay\",\"line_alpha\":1.0,\"line_color\":\"black\",\"line_dash\":[4,4],\"line_width\":2,\"right_units\":\"screen\",\"syncable\":false,\"top_units\":\"screen\"},\"id\":\"2195\",\"type\":\"BoxAnnotation\"},{\"attributes\":{\"axis\":{\"id\":\"2183\"},\"coordinates\":null,\"grid_line_color\":null,\"group\":null,\"ticker\":null},\"id\":\"2185\",\"type\":\"Grid\"},{\"attributes\":{\"margin\":[5,5,5,5],\"name\":\"HSpacer02706\",\"sizing_mode\":\"stretch_width\"},\"id\":\"2265\",\"type\":\"Spacer\"},{\"attributes\":{\"callback\":null,\"renderers\":[{\"id\":\"2237\"}],\"tags\":[\"hv_created\"],\"tooltips\":[[\"index\",\"@{index}\"],[\"cp\",\"@{cp}\"]]},\"id\":\"2173\",\"type\":\"HoverTool\"},{\"attributes\":{},\"id\":\"2192\",\"type\":\"WheelZoomTool\"},{\"attributes\":{\"axis_label\":\"fasting blood sugar > 120 mg/dl (1 = true; 0 = false)\",\"coordinates\":null,\"formatter\":{\"id\":\"2205\"},\"group\":null,\"major_label_policy\":{\"id\":\"2206\"},\"ticker\":{\"id\":\"2184\"}},\"id\":\"2183\",\"type\":\"CategoricalAxis\"},{\"attributes\":{\"fill_alpha\":{\"value\":0.2},\"fill_color\":{\"value\":\"#fc4f30\"},\"hatch_alpha\":{\"value\":0.2},\"hatch_color\":{\"value\":\"#fc4f30\"},\"line_alpha\":{\"value\":0.2},\"top\":{\"field\":\"cp\"},\"width\":{\"value\":0.8},\"x\":{\"field\":\"index\"}},\"id\":\"2236\",\"type\":\"VBar\"},{\"attributes\":{\"callback\":null,\"renderers\":[{\"id\":\"2216\"}],\"tags\":[\"hv_created\"],\"tooltips\":[[\"index\",\"@{index}\"],[\"fbs\",\"@{fbs}\"]]},\"id\":\"2172\",\"type\":\"HoverTool\"},{\"attributes\":{\"fill_alpha\":{\"value\":0.4},\"fill_color\":{\"value\":\"#30a2da\"},\"hatch_alpha\":{\"value\":0.4},\"hatch_color\":{\"value\":\"#30a2da\"},\"line_alpha\":{\"value\":0.4},\"top\":{\"field\":\"fbs\"},\"width\":{\"value\":0.8},\"x\":{\"field\":\"index\"}},\"id\":\"2213\",\"type\":\"VBar\"},{\"attributes\":{\"margin\":[5,5,5,5],\"name\":\"HSpacer02705\",\"sizing_mode\":\"stretch_width\"},\"id\":\"2169\",\"type\":\"Spacer\"},{\"attributes\":{\"tools\":[{\"id\":\"2172\"},{\"id\":\"2173\"},{\"id\":\"2190\"},{\"id\":\"2191\"},{\"id\":\"2192\"},{\"id\":\"2193\"},{\"id\":\"2194\"}]},\"id\":\"2196\",\"type\":\"Toolbar\"},{\"attributes\":{\"fill_alpha\":{\"value\":0.4},\"fill_color\":{\"value\":\"#fc4f30\"},\"hatch_alpha\":{\"value\":0.1},\"hatch_color\":{\"value\":\"#fc4f30\"},\"line_alpha\":{\"value\":0.4},\"top\":{\"field\":\"cp\"},\"width\":{\"value\":0.8},\"x\":{\"field\":\"index\"}},\"id\":\"2235\",\"type\":\"VBar\"},{\"attributes\":{},\"id\":\"2211\",\"type\":\"Selection\"},{\"attributes\":{},\"id\":\"2194\",\"type\":\"ResetTool\"},{\"attributes\":{},\"id\":\"2209\",\"type\":\"AllLabels\"},{\"attributes\":{\"bottom\":{\"value\":0},\"fill_alpha\":{\"value\":0.4},\"fill_color\":{\"value\":\"#fc4f30\"},\"hatch_alpha\":{\"value\":0.4},\"hatch_color\":{\"value\":\"#fc4f30\"},\"hatch_scale\":{\"value\":12.0},\"hatch_weight\":{\"value\":1.0},\"line_alpha\":{\"value\":0.4},\"line_cap\":{\"value\":\"butt\"},\"line_color\":{\"value\":\"black\"},\"line_dash\":{\"value\":[]},\"line_dash_offset\":{\"value\":0},\"line_join\":{\"value\":\"bevel\"},\"line_width\":{\"value\":1},\"top\":{\"field\":\"cp\"},\"width\":{\"value\":0.8},\"x\":{\"field\":\"index\"}},\"id\":\"2252\",\"type\":\"VBar\"},{\"attributes\":{},\"id\":\"2191\",\"type\":\"PanTool\"},{\"attributes\":{},\"id\":\"2181\",\"type\":\"LinearScale\"},{\"attributes\":{\"data\":{\"cp\":[69,41,39,16],\"index\":[\"2\",\"1\",\"0\",\"3\"]},\"selected\":{\"id\":\"2232\"},\"selection_policy\":{\"id\":\"2248\"}},\"id\":\"2231\",\"type\":\"ColumnDataSource\"},{\"attributes\":{},\"id\":\"2208\",\"type\":\"BasicTickFormatter\"},{\"attributes\":{\"children\":[{\"id\":\"2169\"},{\"id\":\"2174\"},{\"id\":\"2265\"}],\"margin\":[0,0,0,0],\"name\":\"Row02701\",\"tags\":[\"embedded\"]},\"id\":\"2168\",\"type\":\"Row\"},{\"attributes\":{\"fill_alpha\":{\"value\":0.2},\"fill_color\":{\"value\":\"#30a2da\"},\"hatch_alpha\":{\"value\":0.2},\"hatch_color\":{\"value\":\"#30a2da\"},\"line_alpha\":{\"value\":0.2},\"top\":{\"field\":\"fbs\"},\"width\":{\"value\":0.8},\"x\":{\"field\":\"index\"}},\"id\":\"2215\",\"type\":\"VBar\"},{\"attributes\":{},\"id\":\"2206\",\"type\":\"AllLabels\"},{\"attributes\":{\"label\":{\"value\":\"fbs\"},\"renderers\":[{\"id\":\"2216\"}]},\"id\":\"2229\",\"type\":\"LegendItem\"},{\"attributes\":{\"below\":[{\"id\":\"2183\"}],\"center\":[{\"id\":\"2185\"},{\"id\":\"2189\"},{\"id\":\"2228\"}],\"height\":450,\"left\":[{\"id\":\"2186\"}],\"margin\":[5,5,5,5],\"min_border_bottom\":10,\"min_border_left\":10,\"min_border_right\":10,\"min_border_top\":10,\"renderers\":[{\"id\":\"2216\"},{\"id\":\"2237\"}],\"sizing_mode\":\"fixed\",\"title\":{\"id\":\"2175\"},\"toolbar\":{\"id\":\"2196\"},\"width\":500,\"x_range\":{\"id\":\"2170\"},\"x_scale\":{\"id\":\"2179\"},\"y_range\":{\"id\":\"2171\"},\"y_scale\":{\"id\":\"2181\"}},\"id\":\"2174\",\"subtype\":\"Figure\",\"type\":\"Plot\"},{\"attributes\":{\"overlay\":{\"id\":\"2195\"}},\"id\":\"2193\",\"type\":\"BoxZoomTool\"},{\"attributes\":{\"axis_label\":\"Count\",\"coordinates\":null,\"formatter\":{\"id\":\"2208\"},\"group\":null,\"major_label_policy\":{\"id\":\"2209\"},\"ticker\":{\"id\":\"2187\"}},\"id\":\"2186\",\"type\":\"LinearAxis\"}],\"root_ids\":[\"2168\"]},\"title\":\"Bokeh Application\",\"version\":\"2.4.3\"}};\n",
       "    var render_items = [{\"docid\":\"28d979a9-1151-4a53-b483-d1b65ea41d5c\",\"root_ids\":[\"2168\"],\"roots\":{\"2168\":\"75ca6776-9ba0-47b2-b9d3-89d0d7088120\"}}];\n",
       "    root.Bokeh.embed.embed_items_notebook(docs_json, render_items);\n",
       "  }\n",
       "  if (root.Bokeh !== undefined && root.Bokeh.Panel !== undefined) {\n",
       "    embed_document(root);\n",
       "  } else {\n",
       "    var attempts = 0;\n",
       "    var timer = setInterval(function(root) {\n",
       "      if (root.Bokeh !== undefined && root.Bokeh.Panel !== undefined) {\n",
       "        clearInterval(timer);\n",
       "        embed_document(root);\n",
       "      } else if (document.readyState == \"complete\") {\n",
       "        attempts++;\n",
       "        if (attempts > 200) {\n",
       "          clearInterval(timer);\n",
       "          console.log(\"Bokeh: ERROR: Unable to run BokehJS code because BokehJS library is missing\");\n",
       "        }\n",
       "      }\n",
       "    }, 25, root)\n",
       "  }\n",
       "})(window);</script>"
      ],
      "text/plain": [
       ":Overlay\n",
       "   .Bars.Fbs :Bars   [index]   (fbs)\n",
       "   .Bars.Cp  :Bars   [index]   (cp)"
      ]
     },
     "execution_count": 71,
     "metadata": {
      "application/vnd.holoviews_exec.v0+json": {
       "id": "2168"
      }
     },
     "output_type": "execute_result"
    }
   ],
   "source": [
    "hwith_disease = df.loc[df['target']==1, 'fbs'].value_counts().hvplot.bar(alpha=0.4) \n",
    "without_disease = df.loc[df['target']==0, 'fbs'].value_counts().hvplot.bar(alpha=0.4) \n",
    "\n",
    "(without_disease * with_disease).opts(\n",
    "    title=\"Heart Disease by fasting blood sugar\", xlabel='fasting blood sugar > 120 mg/dl (1 = true; 0 = false)', \n",
    "    ylabel='Count', width=500, height=450, legend_cols=2, legend_position='top_right'\n",
    ")"
   ]
  },
  {
   "cell_type": "code",
   "execution_count": 72,
   "id": "fbc79f6a",
   "metadata": {},
   "outputs": [
    {
     "data": {},
     "metadata": {},
     "output_type": "display_data"
    },
    {
     "data": {
      "application/vnd.holoviews_exec.v0+json": "",
      "text/html": [
       "<div id='2327'>\n",
       "  <div class=\"bk-root\" id=\"86f3d967-c2ac-4497-8dc1-768a9eeef798\" data-root-id=\"2327\"></div>\n",
       "</div>\n",
       "<script type=\"application/javascript\">(function(root) {\n",
       "  function embed_document(root) {\n",
       "    var docs_json = {\"73436a8c-2f77-4dc6-a7bf-53f07bb28d0d\":{\"defs\":[{\"extends\":null,\"module\":null,\"name\":\"ReactiveHTML1\",\"overrides\":[],\"properties\":[]},{\"extends\":null,\"module\":null,\"name\":\"FlexBox1\",\"overrides\":[],\"properties\":[{\"default\":\"flex-start\",\"kind\":null,\"name\":\"align_content\"},{\"default\":\"flex-start\",\"kind\":null,\"name\":\"align_items\"},{\"default\":\"row\",\"kind\":null,\"name\":\"flex_direction\"},{\"default\":\"wrap\",\"kind\":null,\"name\":\"flex_wrap\"},{\"default\":\"flex-start\",\"kind\":null,\"name\":\"justify_content\"}]},{\"extends\":null,\"module\":null,\"name\":\"GridStack1\",\"overrides\":[],\"properties\":[{\"default\":\"warn\",\"kind\":null,\"name\":\"mode\"},{\"default\":null,\"kind\":null,\"name\":\"ncols\"},{\"default\":null,\"kind\":null,\"name\":\"nrows\"},{\"default\":true,\"kind\":null,\"name\":\"allow_resize\"},{\"default\":true,\"kind\":null,\"name\":\"allow_drag\"},{\"default\":[],\"kind\":null,\"name\":\"state\"}]},{\"extends\":null,\"module\":null,\"name\":\"click1\",\"overrides\":[],\"properties\":[{\"default\":\"\",\"kind\":null,\"name\":\"terminal_output\"},{\"default\":\"\",\"kind\":null,\"name\":\"debug_name\"},{\"default\":0,\"kind\":null,\"name\":\"clears\"}]},{\"extends\":null,\"module\":null,\"name\":\"NotificationAreaBase1\",\"overrides\":[],\"properties\":[{\"default\":\"bottom-right\",\"kind\":null,\"name\":\"position\"},{\"default\":0,\"kind\":null,\"name\":\"_clear\"}]},{\"extends\":null,\"module\":null,\"name\":\"NotificationArea1\",\"overrides\":[],\"properties\":[{\"default\":[],\"kind\":null,\"name\":\"notifications\"},{\"default\":\"bottom-right\",\"kind\":null,\"name\":\"position\"},{\"default\":0,\"kind\":null,\"name\":\"_clear\"},{\"default\":[{\"background\":\"#ffc107\",\"icon\":{\"className\":\"fas fa-exclamation-triangle\",\"color\":\"white\",\"tagName\":\"i\"},\"type\":\"warning\"},{\"background\":\"#007bff\",\"icon\":{\"className\":\"fas fa-info-circle\",\"color\":\"white\",\"tagName\":\"i\"},\"type\":\"info\"}],\"kind\":null,\"name\":\"types\"}]},{\"extends\":null,\"module\":null,\"name\":\"Notification\",\"overrides\":[],\"properties\":[{\"default\":null,\"kind\":null,\"name\":\"background\"},{\"default\":3000,\"kind\":null,\"name\":\"duration\"},{\"default\":null,\"kind\":null,\"name\":\"icon\"},{\"default\":\"\",\"kind\":null,\"name\":\"message\"},{\"default\":null,\"kind\":null,\"name\":\"notification_type\"},{\"default\":false,\"kind\":null,\"name\":\"_destroyed\"}]},{\"extends\":null,\"module\":null,\"name\":\"TemplateActions1\",\"overrides\":[],\"properties\":[{\"default\":0,\"kind\":null,\"name\":\"open_modal\"},{\"default\":0,\"kind\":null,\"name\":\"close_modal\"}]},{\"extends\":null,\"module\":null,\"name\":\"MaterialTemplateActions1\",\"overrides\":[],\"properties\":[{\"default\":0,\"kind\":null,\"name\":\"open_modal\"},{\"default\":0,\"kind\":null,\"name\":\"close_modal\"}]}],\"roots\":{\"references\":[{\"attributes\":{\"tools\":[{\"id\":\"2331\"},{\"id\":\"2349\"},{\"id\":\"2350\"},{\"id\":\"2351\"},{\"id\":\"2352\"},{\"id\":\"2353\"}]},\"id\":\"2355\",\"type\":\"Toolbar\"},{\"attributes\":{\"callback\":null,\"renderers\":[{\"id\":\"2374\"},{\"id\":\"2395\"}],\"tags\":[\"hv_created\"],\"tooltips\":[[\"index\",\"@{index}\"],[\"restecg\",\"@{restecg}\"]]},\"id\":\"2331\",\"type\":\"HoverTool\"},{\"attributes\":{\"fill_alpha\":{\"value\":0.4},\"fill_color\":{\"value\":\"#30a2da\"},\"hatch_alpha\":{\"value\":0.4},\"hatch_color\":{\"value\":\"#30a2da\"},\"line_alpha\":{\"value\":0.4},\"top\":{\"field\":\"restecg\"},\"width\":{\"value\":0.8},\"x\":{\"field\":\"index\"}},\"id\":\"2371\",\"type\":\"VBar\"},{\"attributes\":{\"fill_alpha\":{\"value\":0.4},\"fill_color\":{\"value\":\"#30a2da\"},\"hatch_alpha\":{\"value\":0.1},\"hatch_color\":{\"value\":\"#30a2da\"},\"line_alpha\":{\"value\":0.4},\"top\":{\"field\":\"restecg\"},\"width\":{\"value\":0.8},\"x\":{\"field\":\"index\"}},\"id\":\"2372\",\"type\":\"VBar\"},{\"attributes\":{},\"id\":\"2346\",\"type\":\"BasicTicker\"},{\"attributes\":{\"margin\":[5,5,5,5],\"name\":\"HSpacer02945\",\"sizing_mode\":\"stretch_width\"},\"id\":\"2328\",\"type\":\"Spacer\"},{\"attributes\":{\"bottom\":{\"value\":0},\"fill_alpha\":{\"value\":0.4},\"fill_color\":{\"value\":\"#30a2da\"},\"hatch_alpha\":{\"value\":0.4},\"hatch_color\":{\"value\":\"#30a2da\"},\"hatch_scale\":{\"value\":12.0},\"hatch_weight\":{\"value\":1.0},\"line_alpha\":{\"value\":0.4},\"line_cap\":{\"value\":\"butt\"},\"line_color\":{\"value\":\"black\"},\"line_dash\":{\"value\":[]},\"line_dash_offset\":{\"value\":0},\"line_join\":{\"value\":\"bevel\"},\"line_width\":{\"value\":1},\"top\":{\"field\":\"restecg\"},\"width\":{\"value\":0.8},\"x\":{\"field\":\"index\"}},\"id\":\"2388\",\"type\":\"VBar\"},{\"attributes\":{\"data\":{\"index\":[\"0\",\"1\",\"2\"],\"restecg\":[79,56,3]},\"selected\":{\"id\":\"2390\"},\"selection_policy\":{\"id\":\"2406\"}},\"id\":\"2389\",\"type\":\"ColumnDataSource\"},{\"attributes\":{},\"id\":\"2338\",\"type\":\"CategoricalScale\"},{\"attributes\":{\"axis_label\":\"Count\",\"coordinates\":null,\"formatter\":{\"id\":\"2366\"},\"group\":null,\"major_label_policy\":{\"id\":\"2367\"},\"ticker\":{\"id\":\"2346\"}},\"id\":\"2345\",\"type\":\"LinearAxis\"},{\"attributes\":{\"end\":86.6,\"reset_end\":86.6,\"reset_start\":0.0,\"tags\":[[[\"restecg\",\"restecg\",null]]]},\"id\":\"2330\",\"type\":\"Range1d\"},{\"attributes\":{\"axis\":{\"id\":\"2342\"},\"coordinates\":null,\"grid_line_color\":null,\"group\":null,\"ticker\":null},\"id\":\"2344\",\"type\":\"Grid\"},{\"attributes\":{\"margin\":[5,5,5,5],\"name\":\"HSpacer02946\",\"sizing_mode\":\"stretch_width\"},\"id\":\"2422\",\"type\":\"Spacer\"},{\"attributes\":{\"click_policy\":\"mute\",\"coordinates\":null,\"group\":null,\"items\":[{\"id\":\"2387\"}],\"orientation\":\"horizontal\"},\"id\":\"2386\",\"type\":\"Legend\"},{\"attributes\":{},\"id\":\"2340\",\"type\":\"LinearScale\"},{\"attributes\":{\"fill_alpha\":{\"value\":0.4},\"fill_color\":{\"value\":\"#fc4f30\"},\"hatch_alpha\":{\"value\":0.1},\"hatch_color\":{\"value\":\"#fc4f30\"},\"line_alpha\":{\"value\":0.4},\"top\":{\"field\":\"restecg\"},\"width\":{\"value\":0.8},\"x\":{\"field\":\"index\"}},\"id\":\"2393\",\"type\":\"VBar\"},{\"attributes\":{\"label\":{\"value\":\"restecg\"},\"renderers\":[{\"id\":\"2374\"},{\"id\":\"2395\"}]},\"id\":\"2387\",\"type\":\"LegendItem\"},{\"attributes\":{},\"id\":\"2406\",\"type\":\"UnionRenderers\"},{\"attributes\":{\"coordinates\":null,\"data_source\":{\"id\":\"2368\"},\"glyph\":{\"id\":\"2371\"},\"group\":null,\"hover_glyph\":null,\"muted_glyph\":{\"id\":\"2373\"},\"nonselection_glyph\":{\"id\":\"2372\"},\"selection_glyph\":{\"id\":\"2388\"},\"view\":{\"id\":\"2375\"}},\"id\":\"2374\",\"type\":\"GlyphRenderer\"},{\"attributes\":{\"coordinates\":null,\"data_source\":{\"id\":\"2389\"},\"glyph\":{\"id\":\"2392\"},\"group\":null,\"hover_glyph\":null,\"muted_glyph\":{\"id\":\"2394\"},\"nonselection_glyph\":{\"id\":\"2393\"},\"selection_glyph\":{\"id\":\"2409\"},\"view\":{\"id\":\"2396\"}},\"id\":\"2395\",\"type\":\"GlyphRenderer\"},{\"attributes\":{},\"id\":\"2349\",\"type\":\"SaveTool\"},{\"attributes\":{},\"id\":\"2343\",\"type\":\"CategoricalTicker\"},{\"attributes\":{\"factors\":[\"0\",\"1\",\"2\"],\"tags\":[[[\"index\",\"index\",null]]]},\"id\":\"2329\",\"type\":\"FactorRange\"},{\"attributes\":{},\"id\":\"2390\",\"type\":\"Selection\"},{\"attributes\":{\"coordinates\":null,\"group\":null,\"text\":\"Heart Disease by resting electrocardiographic results\",\"text_color\":\"black\",\"text_font_size\":\"12pt\"},\"id\":\"2334\",\"type\":\"Title\"},{\"attributes\":{},\"id\":\"2351\",\"type\":\"WheelZoomTool\"},{\"attributes\":{\"axis\":{\"id\":\"2345\"},\"coordinates\":null,\"dimension\":1,\"grid_line_color\":null,\"group\":null,\"ticker\":null},\"id\":\"2348\",\"type\":\"Grid\"},{\"attributes\":{\"children\":[{\"id\":\"2328\"},{\"id\":\"2333\"},{\"id\":\"2422\"}],\"margin\":[0,0,0,0],\"name\":\"Row02941\",\"tags\":[\"embedded\"]},\"id\":\"2327\",\"type\":\"Row\"},{\"attributes\":{\"source\":{\"id\":\"2389\"}},\"id\":\"2396\",\"type\":\"CDSView\"},{\"attributes\":{},\"id\":\"2350\",\"type\":\"PanTool\"},{\"attributes\":{\"data\":{\"index\":[\"0\",\"1\",\"2\"],\"restecg\":[79,56,3]},\"selected\":{\"id\":\"2369\"},\"selection_policy\":{\"id\":\"2383\"}},\"id\":\"2368\",\"type\":\"ColumnDataSource\"},{\"attributes\":{\"fill_alpha\":{\"value\":0.2},\"fill_color\":{\"value\":\"#30a2da\"},\"hatch_alpha\":{\"value\":0.2},\"hatch_color\":{\"value\":\"#30a2da\"},\"line_alpha\":{\"value\":0.2},\"top\":{\"field\":\"restecg\"},\"width\":{\"value\":0.8},\"x\":{\"field\":\"index\"}},\"id\":\"2373\",\"type\":\"VBar\"},{\"attributes\":{},\"id\":\"2363\",\"type\":\"CategoricalTickFormatter\"},{\"attributes\":{},\"id\":\"2353\",\"type\":\"ResetTool\"},{\"attributes\":{\"below\":[{\"id\":\"2342\"}],\"center\":[{\"id\":\"2344\"},{\"id\":\"2348\"},{\"id\":\"2386\"}],\"height\":450,\"left\":[{\"id\":\"2345\"}],\"margin\":[5,5,5,5],\"min_border_bottom\":10,\"min_border_left\":10,\"min_border_right\":10,\"min_border_top\":10,\"renderers\":[{\"id\":\"2374\"},{\"id\":\"2395\"}],\"sizing_mode\":\"fixed\",\"title\":{\"id\":\"2334\"},\"toolbar\":{\"id\":\"2355\"},\"width\":500,\"x_range\":{\"id\":\"2329\"},\"x_scale\":{\"id\":\"2338\"},\"y_range\":{\"id\":\"2330\"},\"y_scale\":{\"id\":\"2340\"}},\"id\":\"2333\",\"subtype\":\"Figure\",\"type\":\"Plot\"},{\"attributes\":{\"fill_alpha\":{\"value\":0.4},\"fill_color\":{\"value\":\"#fc4f30\"},\"hatch_alpha\":{\"value\":0.4},\"hatch_color\":{\"value\":\"#fc4f30\"},\"line_alpha\":{\"value\":0.4},\"top\":{\"field\":\"restecg\"},\"width\":{\"value\":0.8},\"x\":{\"field\":\"index\"}},\"id\":\"2392\",\"type\":\"VBar\"},{\"attributes\":{},\"id\":\"2366\",\"type\":\"BasicTickFormatter\"},{\"attributes\":{},\"id\":\"2369\",\"type\":\"Selection\"},{\"attributes\":{\"fill_alpha\":{\"value\":0.2},\"fill_color\":{\"value\":\"#fc4f30\"},\"hatch_alpha\":{\"value\":0.2},\"hatch_color\":{\"value\":\"#fc4f30\"},\"line_alpha\":{\"value\":0.2},\"top\":{\"field\":\"restecg\"},\"width\":{\"value\":0.8},\"x\":{\"field\":\"index\"}},\"id\":\"2394\",\"type\":\"VBar\"},{\"attributes\":{},\"id\":\"2367\",\"type\":\"AllLabels\"},{\"attributes\":{\"bottom\":{\"value\":0},\"fill_alpha\":{\"value\":0.4},\"fill_color\":{\"value\":\"#fc4f30\"},\"hatch_alpha\":{\"value\":0.4},\"hatch_color\":{\"value\":\"#fc4f30\"},\"hatch_scale\":{\"value\":12.0},\"hatch_weight\":{\"value\":1.0},\"line_alpha\":{\"value\":0.4},\"line_cap\":{\"value\":\"butt\"},\"line_color\":{\"value\":\"black\"},\"line_dash\":{\"value\":[]},\"line_dash_offset\":{\"value\":0},\"line_join\":{\"value\":\"bevel\"},\"line_width\":{\"value\":1},\"top\":{\"field\":\"restecg\"},\"width\":{\"value\":0.8},\"x\":{\"field\":\"index\"}},\"id\":\"2409\",\"type\":\"VBar\"},{\"attributes\":{\"axis_label\":\"resting electrocardiographic results\",\"coordinates\":null,\"formatter\":{\"id\":\"2363\"},\"group\":null,\"major_label_policy\":{\"id\":\"2364\"},\"ticker\":{\"id\":\"2343\"}},\"id\":\"2342\",\"type\":\"CategoricalAxis\"},{\"attributes\":{},\"id\":\"2383\",\"type\":\"UnionRenderers\"},{\"attributes\":{\"source\":{\"id\":\"2368\"}},\"id\":\"2375\",\"type\":\"CDSView\"},{\"attributes\":{\"bottom_units\":\"screen\",\"coordinates\":null,\"fill_alpha\":0.5,\"fill_color\":\"lightgrey\",\"group\":null,\"left_units\":\"screen\",\"level\":\"overlay\",\"line_alpha\":1.0,\"line_color\":\"black\",\"line_dash\":[4,4],\"line_width\":2,\"right_units\":\"screen\",\"syncable\":false,\"top_units\":\"screen\"},\"id\":\"2354\",\"type\":\"BoxAnnotation\"},{\"attributes\":{\"overlay\":{\"id\":\"2354\"}},\"id\":\"2352\",\"type\":\"BoxZoomTool\"},{\"attributes\":{},\"id\":\"2364\",\"type\":\"AllLabels\"}],\"root_ids\":[\"2327\"]},\"title\":\"Bokeh Application\",\"version\":\"2.4.3\"}};\n",
       "    var render_items = [{\"docid\":\"73436a8c-2f77-4dc6-a7bf-53f07bb28d0d\",\"root_ids\":[\"2327\"],\"roots\":{\"2327\":\"86f3d967-c2ac-4497-8dc1-768a9eeef798\"}}];\n",
       "    root.Bokeh.embed.embed_items_notebook(docs_json, render_items);\n",
       "  }\n",
       "  if (root.Bokeh !== undefined && root.Bokeh.Panel !== undefined) {\n",
       "    embed_document(root);\n",
       "  } else {\n",
       "    var attempts = 0;\n",
       "    var timer = setInterval(function(root) {\n",
       "      if (root.Bokeh !== undefined && root.Bokeh.Panel !== undefined) {\n",
       "        clearInterval(timer);\n",
       "        embed_document(root);\n",
       "      } else if (document.readyState == \"complete\") {\n",
       "        attempts++;\n",
       "        if (attempts > 200) {\n",
       "          clearInterval(timer);\n",
       "          console.log(\"Bokeh: ERROR: Unable to run BokehJS code because BokehJS library is missing\");\n",
       "        }\n",
       "      }\n",
       "    }, 25, root)\n",
       "  }\n",
       "})(window);</script>"
      ],
      "text/plain": [
       ":Overlay\n",
       "   .Bars.Restecg.I  :Bars   [index]   (restecg)\n",
       "   .Bars.Restecg.II :Bars   [index]   (restecg)"
      ]
     },
     "execution_count": 72,
     "metadata": {
      "application/vnd.holoviews_exec.v0+json": {
       "id": "2327"
      }
     },
     "output_type": "execute_result"
    }
   ],
   "source": [
    "with_disease = df.loc[df['target']==1, 'restecg'].value_counts().hvplot.bar(alpha=0.4) \n",
    "without_disease = df.loc[df['target']==0, 'restecg'].value_counts().hvplot.bar(alpha=0.4) \n",
    "\n",
    "(without_disease * without_disease).opts(\n",
    "    title=\"Heart Disease by resting electrocardiographic results\", xlabel='resting electrocardiographic results', \n",
    "    ylabel='Count', width=500, height=450, legend_cols=2, legend_position='top_right'\n",
    ")"
   ]
  },
  {
   "cell_type": "code",
   "execution_count": 73,
   "id": "fcbce892",
   "metadata": {},
   "outputs": [],
   "source": [
    "categorical_val = []\n",
    "continous_val = []\n",
    "for column in df.columns:\n",
    "    if len(df[column].unique()) <= 10:\n",
    "        categorical_val.append(column)\n",
    "    else:\n",
    "        continous_val.append(column)"
   ]
  },
  {
   "cell_type": "code",
   "execution_count": 74,
   "id": "45e67f62",
   "metadata": {},
   "outputs": [
    {
     "data": {
      "text/plain": [
       "['sex', 'cp', 'fbs', 'restecg', 'exang', 'slope', 'ca', 'thal', 'target']"
      ]
     },
     "execution_count": 74,
     "metadata": {},
     "output_type": "execute_result"
    }
   ],
   "source": [
    "categorical_val"
   ]
  },
  {
   "cell_type": "code",
   "execution_count": 75,
   "id": "79be4577",
   "metadata": {},
   "outputs": [
    {
     "name": "stdout",
     "output_type": "stream",
     "text": [
      "          age       sex        cp  trestbps      chol       fbs   restecg  \\\n",
      "0    0.952197  0.681005  1.973123  0.763956  0.256334  2.394438  1.005832   \n",
      "1    1.915313  0.681005  1.002577  0.092738  0.072199  0.417635  0.898962   \n",
      "2    1.474158  1.468418  0.032031  0.092738  0.816773  0.417635  1.005832   \n",
      "3    0.180175  0.681005  0.032031  0.663867  0.198357  0.417635  0.898962   \n",
      "4    0.290464  1.468418  0.938515  0.663867  2.082050  0.417635  0.898962   \n",
      "..        ...       ...       ...       ...       ...       ...       ...   \n",
      "298  0.290464  1.468418  0.938515  0.478391  0.101730  0.417635  0.898962   \n",
      "299  1.033002  0.681005  1.973123  1.234996  0.342756  0.417635  0.898962   \n",
      "300  1.503641  0.681005  0.938515  0.706843  1.029353  2.394438  0.898962   \n",
      "301  0.290464  0.681005  0.938515  0.092738  2.227533  0.417635  0.898962   \n",
      "302  0.290464  1.468418  0.032031  0.092738  0.198357  0.417635  1.005832   \n",
      "\n",
      "      thalach     exang   oldpeak     slope        ca      thal    target  \n",
      "0    0.015443  0.696631  1.087338  2.274579  0.714429  2.148873  0.914529  \n",
      "1    1.633471  0.696631  2.122573  2.274579  0.714429  0.512922  0.914529  \n",
      "2    0.977514  0.696631  0.310912  0.976352  0.714429  0.512922  0.914529  \n",
      "3    1.239897  0.696631  0.206705  0.976352  0.714429  0.512922  0.914529  \n",
      "4    0.583939  1.435481  0.379244  0.976352  0.714429  0.512922  0.914529  \n",
      "..        ...       ...       ...       ...       ...       ...       ...  \n",
      "298  1.165281  1.435481  0.724323  0.649113  0.714429  1.123029  1.093459  \n",
      "299  0.771706  0.696631  0.138373  0.649113  0.714429  1.123029  1.093459  \n",
      "300  0.378132  0.696631  2.036303  0.649113  1.244593  1.123029  1.093459  \n",
      "301  1.515125  1.435481  0.138373  0.649113  0.265082  1.123029  1.093459  \n",
      "302  1.064975  0.696631  0.896862  0.649113  0.265082  0.512922  1.093459  \n",
      "\n",
      "[303 rows x 14 columns]\n"
     ]
    }
   ],
   "source": [
    " #Here we'll read and remove outlier's in the dataset using zscore matrix\n",
    "from scipy import stats\n",
    "z=np.abs(stats.zscore(df))\n",
    "print(z)"
   ]
  },
  {
   "cell_type": "code",
   "execution_count": 76,
   "id": "298118c0",
   "metadata": {},
   "outputs": [
    {
     "name": "stdout",
     "output_type": "stream",
     "text": [
      "(array([ 28,  48,  85,  92, 158, 163, 164, 204, 220, 221, 223, 246, 248,\n",
      "       251, 272, 281], dtype=int64), array([ 4, 12,  4, 11, 11, 11, 11,  9,  4,  9,  3,  4,  3, 11,  7, 12],\n",
      "      dtype=int64))\n"
     ]
    }
   ],
   "source": [
    "threshold=3\n",
    "# here we'll print z whose greater than third deviation\n",
    "print(np.where(z > 3)) #The first array contains the list of row numbers and second array contains respective col"
   ]
  },
  {
   "cell_type": "code",
   "execution_count": 77,
   "id": "333fc908",
   "metadata": {},
   "outputs": [
    {
     "name": "stdout",
     "output_type": "stream",
     "text": [
      "age         13.5\n",
      "sex          1.0\n",
      "cp           2.0\n",
      "trestbps    20.0\n",
      "chol        63.5\n",
      "fbs          0.0\n",
      "restecg      1.0\n",
      "thalach     32.5\n",
      "exang        1.0\n",
      "oldpeak      1.6\n",
      "slope        1.0\n",
      "ca           1.0\n",
      "thal         1.0\n",
      "target       1.0\n",
      "dtype: float64\n"
     ]
    }
   ],
   "source": [
    "Q1=df.quantile(0.25)\n",
    "Q3=df.quantile(0.75)\n",
    "IQR=Q3 - Q1\n",
    "print(IQR)"
   ]
  },
  {
   "cell_type": "code",
   "execution_count": 78,
   "id": "0d4ae52e",
   "metadata": {},
   "outputs": [
    {
     "data": {
      "text/plain": [
       "(287, 14)"
      ]
     },
     "execution_count": 78,
     "metadata": {},
     "output_type": "execute_result"
    }
   ],
   "source": [
    "df = df[(z < 3).all(axis=1)]\n",
    "df.shape #set the lower bound"
   ]
  },
  {
   "cell_type": "code",
   "execution_count": 79,
   "id": "18a70696",
   "metadata": {},
   "outputs": [
    {
     "data": {
      "text/plain": [
       "(228, 14)"
      ]
     },
     "execution_count": 79,
     "metadata": {},
     "output_type": "execute_result"
    }
   ],
   "source": [
    "df=df[~((df < (Q1 - 1.5 * IQR)) | (df > (Q3 + 1.5 * IQR))).any(axis=1)]\n",
    "df.shape #set the upper bound"
   ]
  },
  {
   "cell_type": "code",
   "execution_count": 80,
   "id": "cadcea0e",
   "metadata": {},
   "outputs": [
    {
     "data": {
      "image/png": "[encoded data removed]",
      "text/plain": [
       "<Figure size 2000x1000 with 1 Axes>"
      ]
     },
     "metadata": {},
     "output_type": "display_data"
    }
   ],
   "source": [
    "sns.set_context('notebook',font_scale = 2.3)\n",
    "df.drop('target', axis=1).corrwith(df.target).plot(kind='bar', grid=True, figsize=(20, 10), \n",
    "                                                        title=\"Correlation with the target feature\")\n",
    "plt.tight_layout()"
   ]
  },
  {
   "cell_type": "code",
   "execution_count": 81,
   "id": "c1d25ed3",
   "metadata": {},
   "outputs": [
    {
     "data": {
      "text/html": [
       "<div>\n",
       "<style scoped>\n",
       "    .dataframe tbody tr th:only-of-type {\n",
       "        vertical-align: middle;\n",
       "    }\n",
       "\n",
       "    .dataframe tbody tr th {\n",
       "        vertical-align: top;\n",
       "    }\n",
       "\n",
       "    .dataframe thead th {\n",
       "        text-align: right;\n",
       "    }\n",
       "</style>\n",
       "<table border=\"1\" class=\"dataframe\">\n",
       "  <thead>\n",
       "    <tr style=\"text-align: right;\">\n",
       "      <th></th>\n",
       "      <th>age</th>\n",
       "      <th>sex</th>\n",
       "      <th>cp</th>\n",
       "      <th>trestbps</th>\n",
       "      <th>chol</th>\n",
       "      <th>fbs</th>\n",
       "      <th>restecg</th>\n",
       "      <th>thalach</th>\n",
       "      <th>exang</th>\n",
       "      <th>oldpeak</th>\n",
       "      <th>slope</th>\n",
       "      <th>ca</th>\n",
       "      <th>thal</th>\n",
       "      <th>target</th>\n",
       "    </tr>\n",
       "  </thead>\n",
       "  <tbody>\n",
       "    <tr>\n",
       "      <th>count</th>\n",
       "      <td>228.000000</td>\n",
       "      <td>228.000000</td>\n",
       "      <td>228.000000</td>\n",
       "      <td>228.000000</td>\n",
       "      <td>228.000000</td>\n",
       "      <td>228.0</td>\n",
       "      <td>228.000000</td>\n",
       "      <td>228.000000</td>\n",
       "      <td>228.000000</td>\n",
       "      <td>228.000000</td>\n",
       "      <td>228.000000</td>\n",
       "      <td>228.00000</td>\n",
       "      <td>228.000000</td>\n",
       "      <td>228.000000</td>\n",
       "    </tr>\n",
       "    <tr>\n",
       "      <th>mean</th>\n",
       "      <td>53.333333</td>\n",
       "      <td>0.675439</td>\n",
       "      <td>0.942982</td>\n",
       "      <td>128.671053</td>\n",
       "      <td>242.372807</td>\n",
       "      <td>0.0</td>\n",
       "      <td>0.548246</td>\n",
       "      <td>151.070175</td>\n",
       "      <td>0.315789</td>\n",
       "      <td>0.946053</td>\n",
       "      <td>1.451754</td>\n",
       "      <td>0.47807</td>\n",
       "      <td>2.315789</td>\n",
       "      <td>0.578947</td>\n",
       "    </tr>\n",
       "    <tr>\n",
       "      <th>std</th>\n",
       "      <td>9.229016</td>\n",
       "      <td>0.469241</td>\n",
       "      <td>1.020190</td>\n",
       "      <td>15.349142</td>\n",
       "      <td>44.329827</td>\n",
       "      <td>0.0</td>\n",
       "      <td>0.516125</td>\n",
       "      <td>22.492963</td>\n",
       "      <td>0.465852</td>\n",
       "      <td>1.035422</td>\n",
       "      <td>0.587945</td>\n",
       "      <td>0.69893</td>\n",
       "      <td>0.560299</td>\n",
       "      <td>0.494814</td>\n",
       "    </tr>\n",
       "    <tr>\n",
       "      <th>min</th>\n",
       "      <td>29.000000</td>\n",
       "      <td>0.000000</td>\n",
       "      <td>0.000000</td>\n",
       "      <td>94.000000</td>\n",
       "      <td>131.000000</td>\n",
       "      <td>0.0</td>\n",
       "      <td>0.000000</td>\n",
       "      <td>88.000000</td>\n",
       "      <td>0.000000</td>\n",
       "      <td>0.000000</td>\n",
       "      <td>0.000000</td>\n",
       "      <td>0.00000</td>\n",
       "      <td>1.000000</td>\n",
       "      <td>0.000000</td>\n",
       "    </tr>\n",
       "    <tr>\n",
       "      <th>25%</th>\n",
       "      <td>45.000000</td>\n",
       "      <td>0.000000</td>\n",
       "      <td>0.000000</td>\n",
       "      <td>120.000000</td>\n",
       "      <td>209.750000</td>\n",
       "      <td>0.0</td>\n",
       "      <td>0.000000</td>\n",
       "      <td>137.500000</td>\n",
       "      <td>0.000000</td>\n",
       "      <td>0.000000</td>\n",
       "      <td>1.000000</td>\n",
       "      <td>0.00000</td>\n",
       "      <td>2.000000</td>\n",
       "      <td>0.000000</td>\n",
       "    </tr>\n",
       "    <tr>\n",
       "      <th>50%</th>\n",
       "      <td>54.000000</td>\n",
       "      <td>1.000000</td>\n",
       "      <td>1.000000</td>\n",
       "      <td>130.000000</td>\n",
       "      <td>239.000000</td>\n",
       "      <td>0.0</td>\n",
       "      <td>1.000000</td>\n",
       "      <td>155.000000</td>\n",
       "      <td>0.000000</td>\n",
       "      <td>0.600000</td>\n",
       "      <td>1.500000</td>\n",
       "      <td>0.00000</td>\n",
       "      <td>2.000000</td>\n",
       "      <td>1.000000</td>\n",
       "    </tr>\n",
       "    <tr>\n",
       "      <th>75%</th>\n",
       "      <td>60.000000</td>\n",
       "      <td>1.000000</td>\n",
       "      <td>2.000000</td>\n",
       "      <td>140.000000</td>\n",
       "      <td>269.250000</td>\n",
       "      <td>0.0</td>\n",
       "      <td>1.000000</td>\n",
       "      <td>168.250000</td>\n",
       "      <td>1.000000</td>\n",
       "      <td>1.600000</td>\n",
       "      <td>2.000000</td>\n",
       "      <td>1.00000</td>\n",
       "      <td>3.000000</td>\n",
       "      <td>1.000000</td>\n",
       "    </tr>\n",
       "    <tr>\n",
       "      <th>max</th>\n",
       "      <td>76.000000</td>\n",
       "      <td>1.000000</td>\n",
       "      <td>3.000000</td>\n",
       "      <td>170.000000</td>\n",
       "      <td>360.000000</td>\n",
       "      <td>0.0</td>\n",
       "      <td>2.000000</td>\n",
       "      <td>202.000000</td>\n",
       "      <td>1.000000</td>\n",
       "      <td>4.000000</td>\n",
       "      <td>2.000000</td>\n",
       "      <td>2.00000</td>\n",
       "      <td>3.000000</td>\n",
       "      <td>1.000000</td>\n",
       "    </tr>\n",
       "  </tbody>\n",
       "</table>\n",
       "</div>"
      ],
      "text/plain": [
       "              age         sex          cp    trestbps        chol    fbs  \\\n",
       "count  228.000000  228.000000  228.000000  228.000000  228.000000  228.0   \n",
       "mean    53.333333    0.675439    0.942982  128.671053  242.372807    0.0   \n",
       "std      9.229016    0.469241    1.020190   15.349142   44.329827    0.0   \n",
       "min     29.000000    0.000000    0.000000   94.000000  131.000000    0.0   \n",
       "25%     45.000000    0.000000    0.000000  120.000000  209.750000    0.0   \n",
       "50%     54.000000    1.000000    1.000000  130.000000  239.000000    0.0   \n",
       "75%     60.000000    1.000000    2.000000  140.000000  269.250000    0.0   \n",
       "max     76.000000    1.000000    3.000000  170.000000  360.000000    0.0   \n",
       "\n",
       "          restecg     thalach       exang     oldpeak       slope         ca  \\\n",
       "count  228.000000  228.000000  228.000000  228.000000  228.000000  228.00000   \n",
       "mean     0.548246  151.070175    0.315789    0.946053    1.451754    0.47807   \n",
       "std      0.516125   22.492963    0.465852    1.035422    0.587945    0.69893   \n",
       "min      0.000000   88.000000    0.000000    0.000000    0.000000    0.00000   \n",
       "25%      0.000000  137.500000    0.000000    0.000000    1.000000    0.00000   \n",
       "50%      1.000000  155.000000    0.000000    0.600000    1.500000    0.00000   \n",
       "75%      1.000000  168.250000    1.000000    1.600000    2.000000    1.00000   \n",
       "max      2.000000  202.000000    1.000000    4.000000    2.000000    2.00000   \n",
       "\n",
       "             thal      target  \n",
       "count  228.000000  228.000000  \n",
       "mean     2.315789    0.578947  \n",
       "std      0.560299    0.494814  \n",
       "min      1.000000    0.000000  \n",
       "25%      2.000000    0.000000  \n",
       "50%      2.000000    1.000000  \n",
       "75%      3.000000    1.000000  \n",
       "max      3.000000    1.000000  "
      ]
     },
     "execution_count": 81,
     "metadata": {},
     "output_type": "execute_result"
    }
   ],
   "source": [
    "df.describe()"
   ]
  },
  {
   "cell_type": "code",
   "execution_count": 82,
   "id": "3e843b74",
   "metadata": {},
   "outputs": [],
   "source": [
    "#Feature Scalling\n",
    "from sklearn.preprocessing import StandardScaler\n",
    "standardScaler = StandardScaler()\n",
    "dataset = pd.get_dummies(df,columns=['sex','cp','fbs','restecg','exang','slope','ca','thal']) #creating my dummy variable\n",
    "columns_to_scale= ['age','trestbps','chol','thalach','oldpeak'] # we have taken these columns for scale down\n",
    "dataset[columns_to_scale] = standardScaler.fit_transform(dataset[columns_to_scale])"
   ]
  },
  {
   "cell_type": "code",
   "execution_count": 83,
   "id": "43970cab",
   "metadata": {},
   "outputs": [
    {
     "data": {
      "text/html": [
       "<div>\n",
       "<style scoped>\n",
       "    .dataframe tbody tr th:only-of-type {\n",
       "        vertical-align: middle;\n",
       "    }\n",
       "\n",
       "    .dataframe tbody tr th {\n",
       "        vertical-align: top;\n",
       "    }\n",
       "\n",
       "    .dataframe thead th {\n",
       "        text-align: right;\n",
       "    }\n",
       "</style>\n",
       "<table border=\"1\" class=\"dataframe\">\n",
       "  <thead>\n",
       "    <tr style=\"text-align: right;\">\n",
       "      <th></th>\n",
       "      <th>age</th>\n",
       "      <th>trestbps</th>\n",
       "      <th>chol</th>\n",
       "      <th>thalach</th>\n",
       "      <th>oldpeak</th>\n",
       "      <th>target</th>\n",
       "      <th>sex_0</th>\n",
       "      <th>sex_1</th>\n",
       "      <th>cp_0</th>\n",
       "      <th>cp_1</th>\n",
       "      <th>...</th>\n",
       "      <th>exang_1</th>\n",
       "      <th>slope_0</th>\n",
       "      <th>slope_1</th>\n",
       "      <th>slope_2</th>\n",
       "      <th>ca_0</th>\n",
       "      <th>ca_1</th>\n",
       "      <th>ca_2</th>\n",
       "      <th>thal_1</th>\n",
       "      <th>thal_2</th>\n",
       "      <th>thal_3</th>\n",
       "    </tr>\n",
       "  </thead>\n",
       "  <tbody>\n",
       "    <tr>\n",
       "      <th>1</th>\n",
       "      <td>-1.773674</td>\n",
       "      <td>0.086772</td>\n",
       "      <td>0.172434</td>\n",
       "      <td>1.600895</td>\n",
       "      <td>2.472003</td>\n",
       "      <td>1</td>\n",
       "      <td>0</td>\n",
       "      <td>1</td>\n",
       "      <td>0</td>\n",
       "      <td>0</td>\n",
       "      <td>...</td>\n",
       "      <td>0</td>\n",
       "      <td>1</td>\n",
       "      <td>0</td>\n",
       "      <td>0</td>\n",
       "      <td>1</td>\n",
       "      <td>0</td>\n",
       "      <td>0</td>\n",
       "      <td>0</td>\n",
       "      <td>1</td>\n",
       "      <td>0</td>\n",
       "    </tr>\n",
       "    <tr>\n",
       "      <th>2</th>\n",
       "      <td>-1.339305</td>\n",
       "      <td>0.086772</td>\n",
       "      <td>-0.867525</td>\n",
       "      <td>0.932553</td>\n",
       "      <td>0.439382</td>\n",
       "      <td>1</td>\n",
       "      <td>1</td>\n",
       "      <td>0</td>\n",
       "      <td>0</td>\n",
       "      <td>1</td>\n",
       "      <td>...</td>\n",
       "      <td>0</td>\n",
       "      <td>0</td>\n",
       "      <td>0</td>\n",
       "      <td>1</td>\n",
       "      <td>1</td>\n",
       "      <td>0</td>\n",
       "      <td>0</td>\n",
       "      <td>0</td>\n",
       "      <td>1</td>\n",
       "      <td>0</td>\n",
       "    </tr>\n",
       "    <tr>\n",
       "      <th>3</th>\n",
       "      <td>0.289579</td>\n",
       "      <td>-0.566164</td>\n",
       "      <td>-0.144075</td>\n",
       "      <td>1.199890</td>\n",
       "      <td>-0.141366</td>\n",
       "      <td>1</td>\n",
       "      <td>0</td>\n",
       "      <td>1</td>\n",
       "      <td>0</td>\n",
       "      <td>1</td>\n",
       "      <td>...</td>\n",
       "      <td>0</td>\n",
       "      <td>0</td>\n",
       "      <td>0</td>\n",
       "      <td>1</td>\n",
       "      <td>1</td>\n",
       "      <td>0</td>\n",
       "      <td>0</td>\n",
       "      <td>0</td>\n",
       "      <td>1</td>\n",
       "      <td>0</td>\n",
       "    </tr>\n",
       "    <tr>\n",
       "      <th>4</th>\n",
       "      <td>0.398172</td>\n",
       "      <td>-0.566164</td>\n",
       "      <td>2.523646</td>\n",
       "      <td>0.531547</td>\n",
       "      <td>-0.334949</td>\n",
       "      <td>1</td>\n",
       "      <td>1</td>\n",
       "      <td>0</td>\n",
       "      <td>1</td>\n",
       "      <td>0</td>\n",
       "      <td>...</td>\n",
       "      <td>1</td>\n",
       "      <td>0</td>\n",
       "      <td>0</td>\n",
       "      <td>1</td>\n",
       "      <td>1</td>\n",
       "      <td>0</td>\n",
       "      <td>0</td>\n",
       "      <td>0</td>\n",
       "      <td>1</td>\n",
       "      <td>0</td>\n",
       "    </tr>\n",
       "    <tr>\n",
       "      <th>5</th>\n",
       "      <td>0.398172</td>\n",
       "      <td>0.739707</td>\n",
       "      <td>-1.138819</td>\n",
       "      <td>-0.136795</td>\n",
       "      <td>-0.528532</td>\n",
       "      <td>1</td>\n",
       "      <td>0</td>\n",
       "      <td>1</td>\n",
       "      <td>1</td>\n",
       "      <td>0</td>\n",
       "      <td>...</td>\n",
       "      <td>0</td>\n",
       "      <td>0</td>\n",
       "      <td>1</td>\n",
       "      <td>0</td>\n",
       "      <td>1</td>\n",
       "      <td>0</td>\n",
       "      <td>0</td>\n",
       "      <td>1</td>\n",
       "      <td>0</td>\n",
       "      <td>0</td>\n",
       "    </tr>\n",
       "  </tbody>\n",
       "</table>\n",
       "<p>5 rows × 27 columns</p>\n",
       "</div>"
      ],
      "text/plain": [
       "        age  trestbps      chol   thalach   oldpeak  target  sex_0  sex_1  \\\n",
       "1 -1.773674  0.086772  0.172434  1.600895  2.472003       1      0      1   \n",
       "2 -1.339305  0.086772 -0.867525  0.932553  0.439382       1      1      0   \n",
       "3  0.289579 -0.566164 -0.144075  1.199890 -0.141366       1      0      1   \n",
       "4  0.398172 -0.566164  2.523646  0.531547 -0.334949       1      1      0   \n",
       "5  0.398172  0.739707 -1.138819 -0.136795 -0.528532       1      0      1   \n",
       "\n",
       "   cp_0  cp_1  ...  exang_1  slope_0  slope_1  slope_2  ca_0  ca_1  ca_2  \\\n",
       "1     0     0  ...        0        1        0        0     1     0     0   \n",
       "2     0     1  ...        0        0        0        1     1     0     0   \n",
       "3     0     1  ...        0        0        0        1     1     0     0   \n",
       "4     1     0  ...        1        0        0        1     1     0     0   \n",
       "5     1     0  ...        0        0        1        0     1     0     0   \n",
       "\n",
       "   thal_1  thal_2  thal_3  \n",
       "1       0       1       0  \n",
       "2       0       1       0  \n",
       "3       0       1       0  \n",
       "4       0       1       0  \n",
       "5       1       0       0  \n",
       "\n",
       "[5 rows x 27 columns]"
      ]
     },
     "execution_count": 83,
     "metadata": {},
     "output_type": "execute_result"
    }
   ],
   "source": [
    "dataset.head()"
   ]
  },
  {
   "cell_type": "code",
   "execution_count": 84,
   "id": "aa82a0ca",
   "metadata": {},
   "outputs": [
    {
     "data": {
      "text/html": [
       "<div>\n",
       "<style scoped>\n",
       "    .dataframe tbody tr th:only-of-type {\n",
       "        vertical-align: middle;\n",
       "    }\n",
       "\n",
       "    .dataframe tbody tr th {\n",
       "        vertical-align: top;\n",
       "    }\n",
       "\n",
       "    .dataframe thead th {\n",
       "        text-align: right;\n",
       "    }\n",
       "</style>\n",
       "<table border=\"1\" class=\"dataframe\">\n",
       "  <thead>\n",
       "    <tr style=\"text-align: right;\">\n",
       "      <th></th>\n",
       "      <th>age</th>\n",
       "      <th>trestbps</th>\n",
       "      <th>chol</th>\n",
       "      <th>thalach</th>\n",
       "      <th>oldpeak</th>\n",
       "      <th>target</th>\n",
       "      <th>sex_0</th>\n",
       "      <th>sex_1</th>\n",
       "      <th>cp_0</th>\n",
       "      <th>cp_1</th>\n",
       "      <th>...</th>\n",
       "      <th>exang_1</th>\n",
       "      <th>slope_0</th>\n",
       "      <th>slope_1</th>\n",
       "      <th>slope_2</th>\n",
       "      <th>ca_0</th>\n",
       "      <th>ca_1</th>\n",
       "      <th>ca_2</th>\n",
       "      <th>thal_1</th>\n",
       "      <th>thal_2</th>\n",
       "      <th>thal_3</th>\n",
       "    </tr>\n",
       "  </thead>\n",
       "  <tbody>\n",
       "    <tr>\n",
       "      <th>296</th>\n",
       "      <td>1.049726</td>\n",
       "      <td>-0.304990</td>\n",
       "      <td>-1.025780</td>\n",
       "      <td>-0.671469</td>\n",
       "      <td>-0.915698</td>\n",
       "      <td>0</td>\n",
       "      <td>1</td>\n",
       "      <td>0</td>\n",
       "      <td>1</td>\n",
       "      <td>0</td>\n",
       "      <td>...</td>\n",
       "      <td>1</td>\n",
       "      <td>0</td>\n",
       "      <td>1</td>\n",
       "      <td>0</td>\n",
       "      <td>1</td>\n",
       "      <td>0</td>\n",
       "      <td>0</td>\n",
       "      <td>0</td>\n",
       "      <td>1</td>\n",
       "      <td>0</td>\n",
       "    </tr>\n",
       "    <tr>\n",
       "      <th>298</th>\n",
       "      <td>0.398172</td>\n",
       "      <td>0.739707</td>\n",
       "      <td>-0.031036</td>\n",
       "      <td>-1.250699</td>\n",
       "      <td>-0.722115</td>\n",
       "      <td>0</td>\n",
       "      <td>1</td>\n",
       "      <td>0</td>\n",
       "      <td>1</td>\n",
       "      <td>0</td>\n",
       "      <td>...</td>\n",
       "      <td>1</td>\n",
       "      <td>0</td>\n",
       "      <td>1</td>\n",
       "      <td>0</td>\n",
       "      <td>1</td>\n",
       "      <td>0</td>\n",
       "      <td>0</td>\n",
       "      <td>0</td>\n",
       "      <td>0</td>\n",
       "      <td>1</td>\n",
       "    </tr>\n",
       "    <tr>\n",
       "      <th>299</th>\n",
       "      <td>-0.904936</td>\n",
       "      <td>-1.219100</td>\n",
       "      <td>0.488943</td>\n",
       "      <td>-0.849694</td>\n",
       "      <td>0.245799</td>\n",
       "      <td>0</td>\n",
       "      <td>0</td>\n",
       "      <td>1</td>\n",
       "      <td>0</td>\n",
       "      <td>0</td>\n",
       "      <td>...</td>\n",
       "      <td>0</td>\n",
       "      <td>0</td>\n",
       "      <td>1</td>\n",
       "      <td>0</td>\n",
       "      <td>1</td>\n",
       "      <td>0</td>\n",
       "      <td>0</td>\n",
       "      <td>0</td>\n",
       "      <td>0</td>\n",
       "      <td>1</td>\n",
       "    </tr>\n",
       "    <tr>\n",
       "      <th>301</th>\n",
       "      <td>0.398172</td>\n",
       "      <td>0.086772</td>\n",
       "      <td>-2.517895</td>\n",
       "      <td>-1.607149</td>\n",
       "      <td>0.245799</td>\n",
       "      <td>0</td>\n",
       "      <td>0</td>\n",
       "      <td>1</td>\n",
       "      <td>1</td>\n",
       "      <td>0</td>\n",
       "      <td>...</td>\n",
       "      <td>1</td>\n",
       "      <td>0</td>\n",
       "      <td>1</td>\n",
       "      <td>0</td>\n",
       "      <td>0</td>\n",
       "      <td>1</td>\n",
       "      <td>0</td>\n",
       "      <td>0</td>\n",
       "      <td>0</td>\n",
       "      <td>1</td>\n",
       "    </tr>\n",
       "    <tr>\n",
       "      <th>302</th>\n",
       "      <td>0.398172</td>\n",
       "      <td>0.086772</td>\n",
       "      <td>-0.144075</td>\n",
       "      <td>1.021665</td>\n",
       "      <td>-0.915698</td>\n",
       "      <td>0</td>\n",
       "      <td>1</td>\n",
       "      <td>0</td>\n",
       "      <td>0</td>\n",
       "      <td>1</td>\n",
       "      <td>...</td>\n",
       "      <td>0</td>\n",
       "      <td>0</td>\n",
       "      <td>1</td>\n",
       "      <td>0</td>\n",
       "      <td>0</td>\n",
       "      <td>1</td>\n",
       "      <td>0</td>\n",
       "      <td>0</td>\n",
       "      <td>1</td>\n",
       "      <td>0</td>\n",
       "    </tr>\n",
       "  </tbody>\n",
       "</table>\n",
       "<p>5 rows × 27 columns</p>\n",
       "</div>"
      ],
      "text/plain": [
       "          age  trestbps      chol   thalach   oldpeak  target  sex_0  sex_1  \\\n",
       "296  1.049726 -0.304990 -1.025780 -0.671469 -0.915698       0      1      0   \n",
       "298  0.398172  0.739707 -0.031036 -1.250699 -0.722115       0      1      0   \n",
       "299 -0.904936 -1.219100  0.488943 -0.849694  0.245799       0      0      1   \n",
       "301  0.398172  0.086772 -2.517895 -1.607149  0.245799       0      0      1   \n",
       "302  0.398172  0.086772 -0.144075  1.021665 -0.915698       0      1      0   \n",
       "\n",
       "     cp_0  cp_1  ...  exang_1  slope_0  slope_1  slope_2  ca_0  ca_1  ca_2  \\\n",
       "296     1     0  ...        1        0        1        0     1     0     0   \n",
       "298     1     0  ...        1        0        1        0     1     0     0   \n",
       "299     0     0  ...        0        0        1        0     1     0     0   \n",
       "301     1     0  ...        1        0        1        0     0     1     0   \n",
       "302     0     1  ...        0        0        1        0     0     1     0   \n",
       "\n",
       "     thal_1  thal_2  thal_3  \n",
       "296       0       1       0  \n",
       "298       0       0       1  \n",
       "299       0       0       1  \n",
       "301       0       0       1  \n",
       "302       0       1       0  \n",
       "\n",
       "[5 rows x 27 columns]"
      ]
     },
     "execution_count": 84,
     "metadata": {},
     "output_type": "execute_result"
    }
   ],
   "source": [
    "dataset.tail() #we have choosen data from bottom"
   ]
  },
  {
   "cell_type": "code",
   "execution_count": 85,
   "id": "769d9abf",
   "metadata": {},
   "outputs": [
    {
     "data": {
      "text/html": [
       "<div>\n",
       "<style scoped>\n",
       "    .dataframe tbody tr th:only-of-type {\n",
       "        vertical-align: middle;\n",
       "    }\n",
       "\n",
       "    .dataframe tbody tr th {\n",
       "        vertical-align: top;\n",
       "    }\n",
       "\n",
       "    .dataframe thead th {\n",
       "        text-align: right;\n",
       "    }\n",
       "</style>\n",
       "<table border=\"1\" class=\"dataframe\">\n",
       "  <thead>\n",
       "    <tr style=\"text-align: right;\">\n",
       "      <th></th>\n",
       "      <th>age</th>\n",
       "      <th>trestbps</th>\n",
       "      <th>chol</th>\n",
       "      <th>thalach</th>\n",
       "      <th>oldpeak</th>\n",
       "      <th>target</th>\n",
       "      <th>sex_0</th>\n",
       "      <th>sex_1</th>\n",
       "      <th>cp_0</th>\n",
       "      <th>cp_1</th>\n",
       "      <th>...</th>\n",
       "      <th>exang_1</th>\n",
       "      <th>slope_0</th>\n",
       "      <th>slope_1</th>\n",
       "      <th>slope_2</th>\n",
       "      <th>ca_0</th>\n",
       "      <th>ca_1</th>\n",
       "      <th>ca_2</th>\n",
       "      <th>thal_1</th>\n",
       "      <th>thal_2</th>\n",
       "      <th>thal_3</th>\n",
       "    </tr>\n",
       "  </thead>\n",
       "  <tbody>\n",
       "    <tr>\n",
       "      <th>count</th>\n",
       "      <td>2.280000e+02</td>\n",
       "      <td>2.280000e+02</td>\n",
       "      <td>2.280000e+02</td>\n",
       "      <td>2.280000e+02</td>\n",
       "      <td>2.280000e+02</td>\n",
       "      <td>228.000000</td>\n",
       "      <td>228.000000</td>\n",
       "      <td>228.000000</td>\n",
       "      <td>228.000000</td>\n",
       "      <td>228.000000</td>\n",
       "      <td>...</td>\n",
       "      <td>228.000000</td>\n",
       "      <td>228.000000</td>\n",
       "      <td>228.000000</td>\n",
       "      <td>228.0000</td>\n",
       "      <td>228.000000</td>\n",
       "      <td>228.000000</td>\n",
       "      <td>228.000000</td>\n",
       "      <td>228.000000</td>\n",
       "      <td>228.000000</td>\n",
       "      <td>228.000000</td>\n",
       "    </tr>\n",
       "    <tr>\n",
       "      <th>mean</th>\n",
       "      <td>-3.569270e-16</td>\n",
       "      <td>-7.855558e-16</td>\n",
       "      <td>-7.413660e-17</td>\n",
       "      <td>-1.675073e-16</td>\n",
       "      <td>-2.415222e-16</td>\n",
       "      <td>0.578947</td>\n",
       "      <td>0.324561</td>\n",
       "      <td>0.675439</td>\n",
       "      <td>0.473684</td>\n",
       "      <td>0.184211</td>\n",
       "      <td>...</td>\n",
       "      <td>0.315789</td>\n",
       "      <td>0.048246</td>\n",
       "      <td>0.451754</td>\n",
       "      <td>0.5000</td>\n",
       "      <td>0.640351</td>\n",
       "      <td>0.241228</td>\n",
       "      <td>0.118421</td>\n",
       "      <td>0.048246</td>\n",
       "      <td>0.587719</td>\n",
       "      <td>0.364035</td>\n",
       "    </tr>\n",
       "    <tr>\n",
       "      <th>std</th>\n",
       "      <td>1.002200e+00</td>\n",
       "      <td>1.002200e+00</td>\n",
       "      <td>1.002200e+00</td>\n",
       "      <td>1.002200e+00</td>\n",
       "      <td>1.002200e+00</td>\n",
       "      <td>0.494814</td>\n",
       "      <td>0.469241</td>\n",
       "      <td>0.469241</td>\n",
       "      <td>0.500406</td>\n",
       "      <td>0.388509</td>\n",
       "      <td>...</td>\n",
       "      <td>0.465852</td>\n",
       "      <td>0.214756</td>\n",
       "      <td>0.498762</td>\n",
       "      <td>0.5011</td>\n",
       "      <td>0.480953</td>\n",
       "      <td>0.428770</td>\n",
       "      <td>0.323817</td>\n",
       "      <td>0.214756</td>\n",
       "      <td>0.493328</td>\n",
       "      <td>0.482217</td>\n",
       "    </tr>\n",
       "    <tr>\n",
       "      <th>min</th>\n",
       "      <td>-2.642413e+00</td>\n",
       "      <td>-2.263797e+00</td>\n",
       "      <td>-2.517895e+00</td>\n",
       "      <td>-2.810165e+00</td>\n",
       "      <td>-9.156982e-01</td>\n",
       "      <td>0.000000</td>\n",
       "      <td>0.000000</td>\n",
       "      <td>0.000000</td>\n",
       "      <td>0.000000</td>\n",
       "      <td>0.000000</td>\n",
       "      <td>...</td>\n",
       "      <td>0.000000</td>\n",
       "      <td>0.000000</td>\n",
       "      <td>0.000000</td>\n",
       "      <td>0.0000</td>\n",
       "      <td>0.000000</td>\n",
       "      <td>0.000000</td>\n",
       "      <td>0.000000</td>\n",
       "      <td>0.000000</td>\n",
       "      <td>0.000000</td>\n",
       "      <td>0.000000</td>\n",
       "    </tr>\n",
       "    <tr>\n",
       "      <th>25%</th>\n",
       "      <td>-9.049359e-01</td>\n",
       "      <td>-5.661639e-01</td>\n",
       "      <td>-7.375302e-01</td>\n",
       "      <td>-6.046350e-01</td>\n",
       "      <td>-9.156982e-01</td>\n",
       "      <td>0.000000</td>\n",
       "      <td>0.000000</td>\n",
       "      <td>0.000000</td>\n",
       "      <td>0.000000</td>\n",
       "      <td>0.000000</td>\n",
       "      <td>...</td>\n",
       "      <td>0.000000</td>\n",
       "      <td>0.000000</td>\n",
       "      <td>0.000000</td>\n",
       "      <td>0.0000</td>\n",
       "      <td>0.000000</td>\n",
       "      <td>0.000000</td>\n",
       "      <td>0.000000</td>\n",
       "      <td>0.000000</td>\n",
       "      <td>0.000000</td>\n",
       "      <td>0.000000</td>\n",
       "    </tr>\n",
       "    <tr>\n",
       "      <th>50%</th>\n",
       "      <td>7.239487e-02</td>\n",
       "      <td>8.677171e-02</td>\n",
       "      <td>-7.625177e-02</td>\n",
       "      <td>1.750979e-01</td>\n",
       "      <td>-3.349494e-01</td>\n",
       "      <td>1.000000</td>\n",
       "      <td>0.000000</td>\n",
       "      <td>1.000000</td>\n",
       "      <td>0.000000</td>\n",
       "      <td>0.000000</td>\n",
       "      <td>...</td>\n",
       "      <td>0.000000</td>\n",
       "      <td>0.000000</td>\n",
       "      <td>0.000000</td>\n",
       "      <td>0.5000</td>\n",
       "      <td>1.000000</td>\n",
       "      <td>0.000000</td>\n",
       "      <td>0.000000</td>\n",
       "      <td>0.000000</td>\n",
       "      <td>1.000000</td>\n",
       "      <td>0.000000</td>\n",
       "    </tr>\n",
       "    <tr>\n",
       "      <th>75%</th>\n",
       "      <td>7.239487e-01</td>\n",
       "      <td>7.397074e-01</td>\n",
       "      <td>6.076344e-01</td>\n",
       "      <td>7.654671e-01</td>\n",
       "      <td>6.329653e-01</td>\n",
       "      <td>1.000000</td>\n",
       "      <td>1.000000</td>\n",
       "      <td>1.000000</td>\n",
       "      <td>1.000000</td>\n",
       "      <td>0.000000</td>\n",
       "      <td>...</td>\n",
       "      <td>1.000000</td>\n",
       "      <td>0.000000</td>\n",
       "      <td>1.000000</td>\n",
       "      <td>1.0000</td>\n",
       "      <td>1.000000</td>\n",
       "      <td>0.000000</td>\n",
       "      <td>0.000000</td>\n",
       "      <td>0.000000</td>\n",
       "      <td>1.000000</td>\n",
       "      <td>1.000000</td>\n",
       "    </tr>\n",
       "    <tr>\n",
       "      <th>max</th>\n",
       "      <td>2.461426e+00</td>\n",
       "      <td>2.698514e+00</td>\n",
       "      <td>2.659293e+00</td>\n",
       "      <td>2.269238e+00</td>\n",
       "      <td>2.955960e+00</td>\n",
       "      <td>1.000000</td>\n",
       "      <td>1.000000</td>\n",
       "      <td>1.000000</td>\n",
       "      <td>1.000000</td>\n",
       "      <td>1.000000</td>\n",
       "      <td>...</td>\n",
       "      <td>1.000000</td>\n",
       "      <td>1.000000</td>\n",
       "      <td>1.000000</td>\n",
       "      <td>1.0000</td>\n",
       "      <td>1.000000</td>\n",
       "      <td>1.000000</td>\n",
       "      <td>1.000000</td>\n",
       "      <td>1.000000</td>\n",
       "      <td>1.000000</td>\n",
       "      <td>1.000000</td>\n",
       "    </tr>\n",
       "  </tbody>\n",
       "</table>\n",
       "<p>8 rows × 27 columns</p>\n",
       "</div>"
      ],
      "text/plain": [
       "                age      trestbps          chol       thalach       oldpeak  \\\n",
       "count  2.280000e+02  2.280000e+02  2.280000e+02  2.280000e+02  2.280000e+02   \n",
       "mean  -3.569270e-16 -7.855558e-16 -7.413660e-17 -1.675073e-16 -2.415222e-16   \n",
       "std    1.002200e+00  1.002200e+00  1.002200e+00  1.002200e+00  1.002200e+00   \n",
       "min   -2.642413e+00 -2.263797e+00 -2.517895e+00 -2.810165e+00 -9.156982e-01   \n",
       "25%   -9.049359e-01 -5.661639e-01 -7.375302e-01 -6.046350e-01 -9.156982e-01   \n",
       "50%    7.239487e-02  8.677171e-02 -7.625177e-02  1.750979e-01 -3.349494e-01   \n",
       "75%    7.239487e-01  7.397074e-01  6.076344e-01  7.654671e-01  6.329653e-01   \n",
       "max    2.461426e+00  2.698514e+00  2.659293e+00  2.269238e+00  2.955960e+00   \n",
       "\n",
       "           target       sex_0       sex_1        cp_0        cp_1  ...  \\\n",
       "count  228.000000  228.000000  228.000000  228.000000  228.000000  ...   \n",
       "mean     0.578947    0.324561    0.675439    0.473684    0.184211  ...   \n",
       "std      0.494814    0.469241    0.469241    0.500406    0.388509  ...   \n",
       "min      0.000000    0.000000    0.000000    0.000000    0.000000  ...   \n",
       "25%      0.000000    0.000000    0.000000    0.000000    0.000000  ...   \n",
       "50%      1.000000    0.000000    1.000000    0.000000    0.000000  ...   \n",
       "75%      1.000000    1.000000    1.000000    1.000000    0.000000  ...   \n",
       "max      1.000000    1.000000    1.000000    1.000000    1.000000  ...   \n",
       "\n",
       "          exang_1     slope_0     slope_1   slope_2        ca_0        ca_1  \\\n",
       "count  228.000000  228.000000  228.000000  228.0000  228.000000  228.000000   \n",
       "mean     0.315789    0.048246    0.451754    0.5000    0.640351    0.241228   \n",
       "std      0.465852    0.214756    0.498762    0.5011    0.480953    0.428770   \n",
       "min      0.000000    0.000000    0.000000    0.0000    0.000000    0.000000   \n",
       "25%      0.000000    0.000000    0.000000    0.0000    0.000000    0.000000   \n",
       "50%      0.000000    0.000000    0.000000    0.5000    1.000000    0.000000   \n",
       "75%      1.000000    0.000000    1.000000    1.0000    1.000000    0.000000   \n",
       "max      1.000000    1.000000    1.000000    1.0000    1.000000    1.000000   \n",
       "\n",
       "             ca_2      thal_1      thal_2      thal_3  \n",
       "count  228.000000  228.000000  228.000000  228.000000  \n",
       "mean     0.118421    0.048246    0.587719    0.364035  \n",
       "std      0.323817    0.214756    0.493328    0.482217  \n",
       "min      0.000000    0.000000    0.000000    0.000000  \n",
       "25%      0.000000    0.000000    0.000000    0.000000  \n",
       "50%      0.000000    0.000000    1.000000    0.000000  \n",
       "75%      0.000000    0.000000    1.000000    1.000000  \n",
       "max      1.000000    1.000000    1.000000    1.000000  \n",
       "\n",
       "[8 rows x 27 columns]"
      ]
     },
     "execution_count": 85,
     "metadata": {},
     "output_type": "execute_result"
    }
   ],
   "source": [
    "dataset.describe()"
   ]
  },
  {
   "cell_type": "code",
   "execution_count": 86,
   "id": "f1fd8592",
   "metadata": {},
   "outputs": [],
   "source": [
    "#model selection\n",
    "y= dataset['target']\n",
    "x= dataset.drop(['target'],axis=1)"
   ]
  },
  {
   "cell_type": "code",
   "execution_count": 87,
   "id": "e74ae70c",
   "metadata": {},
   "outputs": [],
   "source": [
    "from sklearn.model_selection import train_test_split"
   ]
  },
  {
   "cell_type": "code",
   "execution_count": 88,
   "id": "02fa3bb8",
   "metadata": {},
   "outputs": [],
   "source": [
    "x_train,x_test,y_train,y_test=train_test_split(x,y,test_size=0.2,random_state=5)"
   ]
  },
  {
   "cell_type": "code",
   "execution_count": 89,
   "id": "b37a4990",
   "metadata": {},
   "outputs": [],
   "source": [
    "from sklearn.model_selection import cross_val_score\n",
    "from sklearn.neighbors import KNeighborsClassifier\n",
    "from sklearn.metrics import confusion_matrix,classification_report,accuracy_score"
   ]
  },
  {
   "cell_type": "code",
   "execution_count": 90,
   "id": "c1e476ba",
   "metadata": {},
   "outputs": [
    {
     "data": {
      "text/plain": [
       "0.9130434782608695"
      ]
     },
     "execution_count": 90,
     "metadata": {},
     "output_type": "execute_result"
    }
   ],
   "source": [
    "#K - Nearest Neighbor classifier\n",
    "import warnings\n",
    "warnings.filterwarnings('ignore')\n",
    "knn_classifier = KNeighborsClassifier(n_neighbors = 5)\n",
    "knn_classifier.fit(x_train,y_train)\n",
    "score = cross_val_score(knn_classifier,x_train,y_train,cv=10)\n",
    "y_pred_knn=knn_classifier.predict(x_test)\n",
    "accuracy_score(y_test,y_pred_knn)"
   ]
  },
  {
   "cell_type": "code",
   "execution_count": 91,
   "id": "ba6bb257",
   "metadata": {},
   "outputs": [
    {
     "data": {
      "text/plain": [
       "0.8014619883040934"
      ]
     },
     "execution_count": 91,
     "metadata": {},
     "output_type": "execute_result"
    }
   ],
   "source": [
    "score.mean()"
   ]
  },
  {
   "cell_type": "code",
   "execution_count": 92,
   "id": "9ed25298",
   "metadata": {},
   "outputs": [
    {
     "data": {
      "text/plain": [
       "0.9782608695652174"
      ]
     },
     "execution_count": 92,
     "metadata": {},
     "output_type": "execute_result"
    }
   ],
   "source": [
    "#hyper parameter tunning\n",
    "knn_classifier = KNeighborsClassifier(algorithm='auto',leaf_size=30,metric='minkowski',\n",
    "                                      metric_params=None, n_jobs=1,n_neighbors=5,p=1,weights='uniform')\n",
    "knn_classifier.fit(x_train,y_train)\n",
    "score=cross_val_score(knn_classifier,x_train,y_train,cv=10)\n",
    "y_pred_knn=knn_classifier.predict(x_test)\n",
    "accuracy_score(y_test,y_pred_knn)\n",
    "#hence accuracy increases after Hyper parameter tunning\n"
   ]
  },
  {
   "cell_type": "code",
   "execution_count": 93,
   "id": "d6337688",
   "metadata": {},
   "outputs": [
    {
     "data": {
      "text/plain": [
       "0.8289473684210528"
      ]
     },
     "execution_count": 93,
     "metadata": {},
     "output_type": "execute_result"
    }
   ],
   "source": [
    "score=cross_val_score(knn_classifier,x_train,y_train,cv=10)\n",
    "score.mean()"
   ]
  },
  {
   "cell_type": "code",
   "execution_count": 94,
   "id": "dc7109fa",
   "metadata": {},
   "outputs": [
    {
     "name": "stdout",
     "output_type": "stream",
     "text": [
      "              precision    recall  f1-score   support\n",
      "\n",
      "           0       1.00      0.94      0.97        16\n",
      "           1       0.97      1.00      0.98        30\n",
      "\n",
      "    accuracy                           0.98        46\n",
      "   macro avg       0.98      0.97      0.98        46\n",
      "weighted avg       0.98      0.98      0.98        46\n",
      "\n"
     ]
    }
   ],
   "source": [
    "#printing the classification report\n",
    "print(classification_report(y_test,y_pred_knn))"
   ]
  },
  {
   "cell_type": "code",
   "execution_count": 95,
   "id": "2c4e2b3a",
   "metadata": {},
   "outputs": [
    {
     "data": {
      "text/plain": [
       "0.9130434782608695"
      ]
     },
     "execution_count": 95,
     "metadata": {},
     "output_type": "execute_result"
    }
   ],
   "source": [
    "#random Forest\n",
    "from sklearn.ensemble import RandomForestClassifier\n",
    "rf = RandomForestClassifier()\n",
    "rf.fit(x_train,y_train)\n",
    "y_pred_rf = rf.predict(x_test)\n",
    "accuracy_score(y_test,y_pred_rf)"
   ]
  },
  {
   "cell_type": "code",
   "execution_count": 96,
   "id": "39dbf0fd",
   "metadata": {},
   "outputs": [
    {
     "data": {
      "text/plain": [
       "0.8478260869565217"
      ]
     },
     "execution_count": 96,
     "metadata": {},
     "output_type": "execute_result"
    }
   ],
   "source": [
    "#Decison Tree\n",
    "from sklearn.tree import DecisionTreeClassifier\n",
    "dt = DecisionTreeClassifier()\n",
    "dt.fit(x_train,y_train)\n",
    "y_pred_dt = dt.predict(x_test)\n",
    "accuracy_score(y_test,y_pred_dt)"
   ]
  },
  {
   "cell_type": "code",
   "execution_count": 97,
   "id": "c5576f8e",
   "metadata": {},
   "outputs": [
    {
     "data": {
      "text/plain": [
       "0.8695652173913043"
      ]
     },
     "execution_count": 97,
     "metadata": {},
     "output_type": "execute_result"
    }
   ],
   "source": [
    "#Logistic Regression\n",
    "from sklearn.linear_model import LogisticRegression\n",
    "log = LogisticRegression()\n",
    "log.fit(x_train,y_train)\n",
    "y_pred_lr = log.predict(x_test)\n",
    "accuracy_score(y_test,y_pred_lr)"
   ]
  },
  {
   "cell_type": "code",
   "execution_count": 98,
   "id": "edd5ddcd",
   "metadata": {},
   "outputs": [
    {
     "ename": "SyntaxError",
     "evalue": "invalid syntax (3777581.py, line 5)",
     "output_type": "error",
     "traceback": [
      "\u001b[1;36m  File \u001b[1;32m\"C:\\Users\\hp\\AppData\\Local\\Temp\\ipykernel_4912\\3777581.py\"\u001b[1;36m, line \u001b[1;32m5\u001b[0m\n\u001b[1;33m    accuracy_score(y_test,y_pred_knn)*100,]})final_data\u001b[0m\n\u001b[1;37m                                             ^\u001b[0m\n\u001b[1;31mSyntaxError\u001b[0m\u001b[1;31m:\u001b[0m invalid syntax\n"
     ]
    }
   ],
   "source": [
    "final_data = pd.DataFrame({'Models':['Logistic Regression','Decision Tree','Random Forest','K-Nearest Neighbour'],\n",
    "                          'ACC':[accuracy_score(y_test,y_pred_lr)*100,\n",
    "                                accuracy_score(y_test,y_pred_dt)*100,\n",
    "                                accuracy_score(y_test,y_pred_rf)*100,\n",
    "                                accuracy_score(y_test,y_pred_knn)*100,]})final_data"
   ]
  },
  {
   "cell_type": "code",
   "execution_count": 99,
   "id": "c94becb1",
   "metadata": {},
   "outputs": [
    {
     "name": "stdout",
     "output_type": "stream",
     "text": [
      "AxesSubplot(0.125,0.11;0.775x0.77)\n"
     ]
    },
    {
     "data": {
      "image/png": "[encoded data removed]",
      "text/plain": [
       "<Figure size 640x480 with 1 Axes>"
      ]
     },
     "metadata": {},
     "output_type": "display_data"
    }
   ],
   "source": [
    "import seaborn as sns\n",
    "print(sns.barplot(final_data['Models'],final_data['ACC']))"
   ]
  },
  {
   "cell_type": "code",
   "execution_count": 101,
   "id": "3e94b32c",
   "metadata": {},
   "outputs": [
    {
     "data": {
      "text/plain": [
       "\"\\nfilename='heart'\\npickle.dump(knn_classifier,open(filename,'wb'))\\n\\n# save model\\n#pickle.dump(knn_classifier, open('model.pkl', 'wb'))\\n\\n# load model\\nHeart_disease_detector_model = pickle.load(open(filename,'rb'))\\n\\n# predict the output\\ny_pred = Heart_disease_detector_model.predict(x_test)\\n\\n# confusion matrix\\nprint('Confusion matrix of K – Nearest Neighbor model: \\n',confusion_matrix(y_test, y_pred),'\\n')\\n\\n# show the accuracy\\nprint('Accuracy of K – Nearest Neighbor  model = ',accuracy_score(y_test, y_pred))\""
      ]
     },
     "execution_count": 101,
     "metadata": {},
     "output_type": "execute_result"
    }
   ],
   "source": [
    "## Pickle\n",
    "import pickle\n",
    "import joblib\n",
    "\n",
    "'''\n",
    "filename='heart'\n",
    "pickle.dump(knn_classifier,open(filename,'wb'))\n",
    "\n",
    "# save model\n",
    "#pickle.dump(knn_classifier, open('model.pkl', 'wb'))\n",
    "\n",
    "# load model\n",
    "Heart_disease_detector_model = pickle.load(open(filename,'rb'))\n",
    "\n",
    "# predict the output\n",
    "y_pred = Heart_disease_detector_model.predict(x_test)\n",
    "\n",
    "# confusion matrix\n",
    "print('Confusion matrix of K – Nearest Neighbor model: \\n',confusion_matrix(y_test, y_pred),'\\n')\n",
    "\n",
    "# show the accuracy\n",
    "print('Accuracy of K – Nearest Neighbor  model = ',accuracy_score(y_test, y_pred))'''\n"
   ]
  },
  {
   "cell_type": "code",
   "execution_count": 102,
   "id": "8bf9891a",
   "metadata": {},
   "outputs": [
    {
     "name": "stdout",
     "output_type": "stream",
     "text": [
      "Confusion matrix of K – Nearest Neighbor model: \n",
      " [[15  1]\n",
      " [ 0 30]] \n",
      "\n",
      "Accuracy of K – Nearest Neighbor  model =  0.9782608695652174\n"
     ]
    }
   ],
   "source": [
    "import pickle\n",
    "import joblib\n",
    "# saving our model # model - model , filename-model_jlib\n",
    "joblib.dump(knn_classifier, 'model_jlib')\n",
    "\n",
    "\n",
    "# opening the file- model_jlib\n",
    "Heart_disease_detector_model = joblib.load('model_jlib')\n",
    "\n",
    "# predict the output\n",
    "y_pred = Heart_disease_detector_model.predict(x_test)\n",
    "\n",
    "# confusion matrix\n",
    "print('Confusion matrix of K – Nearest Neighbor model: \\n',confusion_matrix(y_test, y_pred),'\\n')\n",
    "\n",
    "# show the accuracy\n",
    "print('Accuracy of K – Nearest Neighbor  model = ',accuracy_score(y_test, y_pred))\n",
    "\n"
   ]
  },
  {
   "cell_type": "code",
   "execution_count": 103,
   "id": "0841318a",
   "metadata": {},
   "outputs": [],
   "source": [
    "import pickle\n",
    "pickle.dump(knn_classifier,open('heart_model.pkl','wb'))\n",
    "\n"
   ]
  },
  {
   "cell_type": "code",
   "execution_count": null,
   "id": "2f7207ab",
   "metadata": {},
   "outputs": [],
   "source": []
  }
 ],
 "metadata": {
  "kernelspec": {
   "display_name": "Python 3 (ipykernel)",
   "language": "python",
   "name": "python3"
  },
  "language_info": {
   "codemirror_mode": {
    "name": "ipython",
    "version": 3
   },
   "file_extension": ".py",
   "mimetype": "text/x-python",
   "name": "python",
   "nbconvert_exporter": "python",
   "pygments_lexer": "ipython3",
   "version": "3.9.13"
  }
 },
 "nbformat": 4,
 "nbformat_minor": 5
}
